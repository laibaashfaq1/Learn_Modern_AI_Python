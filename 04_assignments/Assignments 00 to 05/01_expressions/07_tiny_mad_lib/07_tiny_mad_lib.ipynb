{
  "nbformat": 4,
  "nbformat_minor": 0,
  "metadata": {
    "colab": {
      "provenance": []
    },
    "kernelspec": {
      "name": "python3",
      "display_name": "Python 3"
    },
    "language_info": {
      "name": "python"
    }
  },
  "cells": [
    {
      "cell_type": "code",
      "execution_count": 11,
      "metadata": {
        "colab": {
          "base_uri": "https://localhost:8080/"
        },
        "id": "E0IhDrtGcvqN",
        "outputId": "86cd0e1e-8051-49cf-f4f8-e061fc6e0128"
      },
      "outputs": [
        {
          "output_type": "stream",
          "name": "stdout",
          "text": [
            "Please type an adjective and press enter: tiny\n",
            "Please type a noun and press enter: plant\n",
            "Please type a verb and press enter: cut\n",
            "Code in Place is fun. I learned to program and used Python to make my tiny plant cut!\n"
          ]
        }
      ],
      "source": [
        "# Define the sentence start\n",
        "SENTENCE_START = \"Code in Place is fun. I learned to program and used Python to make my\"\n",
        "\n",
        "# Prompt the user for words\n",
        "adjective = input(\"Please type an adjective and press enter: \")\n",
        "noun = input(\"Please type a noun and press enter: \")\n",
        "verb = input(\"Please type a verb and press enter: \")\n",
        "\n",
        "# Print the final funny sentence\n",
        "print(f\"{SENTENCE_START} {adjective} {noun} {verb}!\")\n"
      ]
    }
  ]
}