{
  "nbformat": 4,
  "nbformat_minor": 0,
  "metadata": {
    "colab": {
      "provenance": []
    },
    "kernelspec": {
      "name": "python3",
      "display_name": "Python 3"
    },
    "language_info": {
      "name": "python"
    }
  },
  "cells": [
    {
      "cell_type": "code",
      "execution_count": 4,
      "metadata": {
        "colab": {
          "base_uri": "https://localhost:8080/"
        },
        "id": "r7kv7jrgFUAT",
        "outputId": "e99ff41d-c926-4f8a-ccaa-868093b4510b"
      },
      "outputs": [
        {
          "output_type": "stream",
          "name": "stdout",
          "text": [
            "Enter kilos of mass: 5\n",
            "e = m * C^2...\n",
            "m = 5.0 kg\n",
            "C = 299792458 m/s\n",
            "4.493775893684088e+17 joules of energy!\n"
          ]
        }
      ],
      "source": [
        "# 1st step\n",
        "\n",
        "# Define the speed of light as a constant (in meters per second)\n",
        "C: int = 299792458\n",
        "\n",
        "def main():\n",
        "  mass_in_kg:float=float(input(\"Enter kilos of mass: \"))\n",
        "  energy_in_joules = mass_in_kg *  (C ** 2)\n",
        "  print(\"e = m * C^2...\")\n",
        "  print(\"m = \" + str(mass_in_kg) + \" kg\")\n",
        "  print(\"C = \" + str(C) + \" m/s\")\n",
        "  print(str(energy_in_joules) + \" joules of energy!\")\n",
        "main()"
      ]
    },
    {
      "cell_type": "code",
      "source": [
        "# Define the speed of light as a constant (in meters per second)\n",
        "C = 299792458\n",
        "\n",
        "# Take user input for mass\n",
        "mass_in_kg = float(input(\"Enter mass in kilograms: \"))\n",
        "\n",
        "# Calculate energy using E = m * C^2\n",
        "energy_in_joules = mass_in_kg * (C ** 2)\n",
        "\n",
        "# Display the calculation process and result\n",
        "print(f\"\\n📌 e = m * C^2...\")\n",
        "print(f\"📌 Mass (m) = {mass_in_kg} kg\")\n",
        "print(f\"📌 Speed of Light (C) = {C} m/s\")\n",
        "print(f\"📌 Energy (E) = {energy_in_joules} joules of energy\")\n",
        "\n"
      ],
      "metadata": {
        "colab": {
          "base_uri": "https://localhost:8080/"
        },
        "id": "UG6b1yaSFrVo",
        "outputId": "99579392-5647-4a2a-f209-c84b85f2ea09"
      },
      "execution_count": 6,
      "outputs": [
        {
          "output_type": "stream",
          "name": "stdout",
          "text": [
            "Enter mass in kilograms: 8\n",
            "\n",
            "📌 e = m * C^2...\n",
            "📌 Mass (m) = 8.0 kg\n",
            "📌 Speed of Light (C) = 299792458 m/s\n",
            "📌 Energy (E) = 7.190041429894541e+17 joules of energy\n"
          ]
        }
      ]
    }
  ]
}