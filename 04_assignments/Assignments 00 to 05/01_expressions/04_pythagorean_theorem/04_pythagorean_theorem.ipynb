{
  "nbformat": 4,
  "nbformat_minor": 0,
  "metadata": {
    "colab": {
      "provenance": []
    },
    "kernelspec": {
      "name": "python3",
      "display_name": "Python 3"
    },
    "language_info": {
      "name": "python"
    }
  },
  "cells": [
    {
      "cell_type": "code",
      "execution_count": 7,
      "metadata": {
        "colab": {
          "base_uri": "https://localhost:8080/"
        },
        "id": "AFvrfk3tV3vV",
        "outputId": "d5b790d2-231e-4851-e07c-fde6c7c5f904"
      },
      "outputs": [
        {
          "output_type": "stream",
          "name": "stdout",
          "text": [
            "Enter the length of AB: 5\n",
            "Enter the length of AC: 8\n",
            "The length of BC (the hypotenuse) is: 9.43\n"
          ]
        }
      ],
      "source": [
        "import math  # Import math module to use sqrt()\n",
        "\n",
        "def calculate_hypotenuse(a, b):\n",
        " # Calculates the hypotenuse using the Pythagorean theorem.\n",
        "    return math.sqrt(a**2 + b**2)\n",
        "\n",
        "# Get user input for the two perpendicular sides\n",
        "try:\n",
        "    ab = float(input(\"Enter the length of AB: \"))  # First side\n",
        "    ac = float(input(\"Enter the length of AC: \"))  # Second side\n",
        "\n",
        "    # Calculate the hypotenuse\n",
        "    bc = calculate_hypotenuse(ab, ac)\n",
        "\n",
        "    # Display the result\n",
        "    print(f\"The length of BC (the hypotenuse) is: {bc:.2f}\")  # Round to 2 decimal places\n",
        "\n",
        "except ValueError:\n",
        "    print(\"❌ Invalid input! Please enter a valid number.\")\n",
        "\n"
      ]
    },
    {
      "cell_type": "code",
      "source": [],
      "metadata": {
        "id": "MLTdS5kVXbUj"
      },
      "execution_count": null,
      "outputs": []
    }
  ]
}