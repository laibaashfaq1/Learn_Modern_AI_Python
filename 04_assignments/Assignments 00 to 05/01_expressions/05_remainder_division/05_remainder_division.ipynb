{
  "nbformat": 4,
  "nbformat_minor": 0,
  "metadata": {
    "colab": {
      "provenance": []
    },
    "kernelspec": {
      "name": "python3",
      "display_name": "Python 3"
    },
    "language_info": {
      "name": "python"
    }
  },
  "cells": [
    {
      "cell_type": "code",
      "execution_count": 10,
      "metadata": {
        "colab": {
          "base_uri": "https://localhost:8080/"
        },
        "id": "AFvrfk3tV3vV",
        "outputId": "df69b24a-5b73-4078-8198-984b340dcd77"
      },
      "outputs": [
        {
          "output_type": "stream",
          "name": "stdout",
          "text": [
            "Please enter a value to be divided: 6\n",
            "Please enter a value to divide by: 5\n",
            "The quotient is 1 and the remainder is 1\n"
          ]
        }
      ],
      "source": [
        "def main():\n",
        "    try:\n",
        "        # Take two values from user\n",
        "        value1 = int(input(\"Please enter a value to be divided: \"))\n",
        "        value2 = int(input(\"Please enter a value to divide by: \"))\n",
        "\n",
        "        # Perform division and find the remainder\n",
        "        quotient = value1 // value2\n",
        "        remainder = value1 % value2\n",
        "\n",
        "        # Print results\n",
        "        print(f\"The quotient is {quotient} and the remainder is {remainder}\")\n",
        "\n",
        "    except ValueError:\n",
        "        print(\"Invalid input! Please enter numbers only.\")\n",
        "    except ZeroDivisionError:\n",
        "        print(\"Error! Division by zero is not allowed.\")\n",
        "\n",
        "# Call the function\n",
        "main()\n"
      ]
    },
    {
      "cell_type": "code",
      "source": [],
      "metadata": {
        "id": "UWUPIm6Paqtx"
      },
      "execution_count": null,
      "outputs": []
    }
  ]
}