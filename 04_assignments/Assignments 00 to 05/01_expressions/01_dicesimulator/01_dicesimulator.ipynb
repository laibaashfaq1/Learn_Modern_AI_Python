{
  "nbformat": 4,
  "nbformat_minor": 0,
  "metadata": {
    "colab": {
      "provenance": []
    },
    "kernelspec": {
      "name": "python3",
      "display_name": "Python 3"
    },
    "language_info": {
      "name": "python"
    }
  },
  "cells": [
    {
      "cell_type": "code",
      "execution_count": 6,
      "metadata": {
        "colab": {
          "base_uri": "https://localhost:8080/"
        },
        "id": "KvbwHbLvBier",
        "outputId": "d76a1b01-83b6-4168-ac37-3227895e6337"
      },
      "outputs": [
        {
          "output_type": "stream",
          "name": "stdout",
          "text": [
            "🔹 roll1 in main() starts as: 5\n",
            "🎲 Dice rolled: 4\n",
            "🎲 Dice rolled: 3\n",
            "🎲 Dice rolled: 9\n",
            "🔹 roll1 in main() remains as: 5\n"
          ]
        }
      ],
      "source": [
        "import random  # Import the random module to generate random numbers\n",
        "\n",
        "# Global variable: Number of sides on a die (each die has 6 sides)\n",
        "one_side = 6\n",
        "\n",
        "# Function to roll two dice and print the total\n",
        "def roll_dice():\n",
        "    # Generate two random numbers between 1 and 6 (representing two dice)\n",
        "    roll1 = random.randint(1, one_side)\n",
        "    roll2 = random.randint(1, one_side)\n",
        "\n",
        "    # Calculate the sum of both dice\n",
        "    total = roll1 + roll2\n",
        "\n",
        "    # Print the result of rolling the dice\n",
        "    print(f\"🎲 Dice rolled: {total}\")\n",
        "\n",
        "# Main function to demonstrate variable scope\n",
        "def main():\n",
        "    # Local variable: roll1 inside main() is different from roll1 inside roll_dice()\n",
        "    roll1 = 5\n",
        "\n",
        "    # Print the value of roll1 inside main() before calling roll_dice()\n",
        "    print(f\"🔹 roll1 in main() starts as: \" + str(roll1))\n",
        "\n",
        "    # Calling the roll_dice() function three times\n",
        "    roll_dice()  # First roll\n",
        "    roll_dice()  # Second roll\n",
        "    roll_dice()  # Third roll\n",
        "\n",
        "    # Print the value of roll1 in main() after calling roll_dice()\n",
        "    print(f\"🔹 roll1 in main() remains as: {roll1}\")\n",
        "\n",
        "# Call the main function to execute the program\n",
        "main()\n"
      ]
    },
    {
      "cell_type": "code",
      "source": [],
      "metadata": {
        "id": "2gM4G03SCWoD"
      },
      "execution_count": null,
      "outputs": []
    }
  ]
}