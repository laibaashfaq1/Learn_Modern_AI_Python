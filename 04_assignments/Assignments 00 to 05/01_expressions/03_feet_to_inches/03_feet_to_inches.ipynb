{
  "nbformat": 4,
  "nbformat_minor": 0,
  "metadata": {
    "colab": {
      "provenance": []
    },
    "kernelspec": {
      "name": "python3",
      "display_name": "Python 3"
    },
    "language_info": {
      "name": "python"
    }
  },
  "cells": [
    {
      "cell_type": "code",
      "execution_count": 6,
      "metadata": {
        "colab": {
          "base_uri": "https://localhost:8080/"
        },
        "id": "AFvrfk3tV3vV",
        "outputId": "300be797-a531-491e-fb0a-f2ba26b4066f"
      },
      "outputs": [
        {
          "output_type": "stream",
          "name": "stdout",
          "text": [
            "Enter the number of feet: 12\n",
            "12.0 feet is equal to 144.0 inches.\n"
          ]
        }
      ],
      "source": [
        "# Converts feet to inches. Feet is an American unit of measurement. There are 12 inches per foot. Foot is the singular, and feet is the plural.\n",
        "\n",
        "def feet_to_inches(feet):\n",
        "  # 12 inches is equal to 1 foot\n",
        "  inches =  feet * 12\n",
        "  return inches\n",
        "\n",
        "#  taken value from user\n",
        "try:\n",
        "  feet=float(input(\"Enter the number of feet: \")) #accept value in decimal\n",
        "  inches = feet_to_inches(feet)\n",
        "  print(f\"{feet} feet is equal to {inches} inches.\")\n",
        "except ValueError:\n",
        "  print(\"Invalid Input\")\n"
      ]
    },
    {
      "cell_type": "code",
      "source": [],
      "metadata": {
        "id": "MLTdS5kVXbUj"
      },
      "execution_count": null,
      "outputs": []
    }
  ]
}