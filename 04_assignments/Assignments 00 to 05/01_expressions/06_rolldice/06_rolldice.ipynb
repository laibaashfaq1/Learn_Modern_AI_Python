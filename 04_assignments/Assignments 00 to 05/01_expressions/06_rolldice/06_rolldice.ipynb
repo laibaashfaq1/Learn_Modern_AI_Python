{
  "nbformat": 4,
  "nbformat_minor": 0,
  "metadata": {
    "colab": {
      "provenance": []
    },
    "kernelspec": {
      "name": "python3",
      "display_name": "Python 3"
    },
    "language_info": {
      "name": "python"
    }
  },
  "cells": [
    {
      "cell_type": "code",
      "execution_count": 5,
      "metadata": {
        "colab": {
          "base_uri": "https://localhost:8080/"
        },
        "id": "E0IhDrtGcvqN",
        "outputId": "12d0d047-3203-47b1-b552-3c564fe8596c"
      },
      "outputs": [
        {
          "output_type": "stream",
          "name": "stdout",
          "text": [
            "🎲 First Die: 4\n",
            "🎲 Second Die: 1\n",
            "🔢 Total: 5\n"
          ]
        }
      ],
      "source": [
        "import random  # Import the random module\n",
        "\n",
        "def main():\n",
        "    # Generate a random number for each die\n",
        "    side1 = random.randint(1, 6)\n",
        "    side2 = random.randint(1, 6)\n",
        "\n",
        "    # Calculate the total\n",
        "    total = side1 + side2\n",
        "\n",
        "    # Print the results\n",
        "    print(f\"🎲 First Die: {side1}\")\n",
        "    print(f\"🎲 Second Die: {side2}\")\n",
        "    print(f\"🔢 Total: {total}\")\n",
        "\n",
        "# Call the function to execute\n",
        "main()\n",
        "\n",
        "\n"
      ]
    },
    {
      "cell_type": "code",
      "source": [],
      "metadata": {
        "id": "czClgfdieFTj"
      },
      "execution_count": null,
      "outputs": []
    }
  ]
}