{
  "nbformat": 4,
  "nbformat_minor": 0,
  "metadata": {
    "colab": {
      "provenance": []
    },
    "kernelspec": {
      "name": "python3",
      "display_name": "Python 3"
    },
    "language_info": {
      "name": "python"
    }
  },
  "cells": [
    {
      "cell_type": "code",
      "execution_count": 15,
      "metadata": {
        "id": "rI13vuK4ST7K",
        "colab": {
          "base_uri": "https://localhost:8080/"
        },
        "outputId": "c233356e-5b70-47e0-fbd6-7a04ce2a133e"
      },
      "outputs": [
        {
          "output_type": "stream",
          "name": "stdout",
          "text": [
            "\n",
            "--- Phonebook Menu ---\n",
            "1. Add Contact\n",
            "2. View All Contacts\n",
            "3. Lookup Contact\n",
            "4. Update Contact\n",
            "5. Delete Contact\n",
            "6. Exit\n",
            "Choose an option (1-6): 1\n",
            "Enter name: Laiba\n",
            "Enter number: 03123456789\n",
            "✅ Contact added.\n",
            "\n",
            "--- Phonebook Menu ---\n",
            "1. Add Contact\n",
            "2. View All Contacts\n",
            "3. Lookup Contact\n",
            "4. Update Contact\n",
            "5. Delete Contact\n",
            "6. Exit\n",
            "Choose an option (1-6): 2\n",
            "\n",
            "--- All Contacts ---\n",
            "Laiba -> 03123456789\n",
            "\n",
            "--- Phonebook Menu ---\n",
            "1. Add Contact\n",
            "2. View All Contacts\n",
            "3. Lookup Contact\n",
            "4. Update Contact\n",
            "5. Delete Contact\n",
            "6. Exit\n",
            "Choose an option (1-6): 6\n",
            "👋 Exiting phonebook. Goodbye!\n"
          ]
        }
      ],
      "source": [
        "def display_menu():\n",
        "    print(\"\\n--- Phonebook Menu ---\")\n",
        "    print(\"1. Add Contact\")\n",
        "    print(\"2. View All Contacts\")\n",
        "    print(\"3. Lookup Contact\")\n",
        "    print(\"4. Update Contact\")\n",
        "    print(\"5. Delete Contact\")\n",
        "    print(\"6. Exit\")\n",
        "\n",
        "def add_contact(phonebook):\n",
        "    name = input(\"Enter name: \")\n",
        "    if name in phonebook:\n",
        "        print(\"❗ Contact already exists.\")\n",
        "    else:\n",
        "        number = input(\"Enter number: \")\n",
        "        phonebook[name] = number\n",
        "        print(\"✅ Contact added.\")\n",
        "\n",
        "def view_contacts(phonebook):\n",
        "    if not phonebook:\n",
        "        print(\"📭 Phonebook is empty.\")\n",
        "    else:\n",
        "        print(\"\\n--- All Contacts ---\")\n",
        "        for name, number in phonebook.items():\n",
        "            print(f\"{name} -> {number}\")\n",
        "\n",
        "def lookup_contact(phonebook):\n",
        "    name = input(\"Enter name to lookup: \")\n",
        "    if name in phonebook:\n",
        "        print(f\"{name}'s number is {phonebook[name]}\")\n",
        "    else:\n",
        "        print(\"❌ Contact not found.\")\n",
        "\n",
        "def update_contact(phonebook):\n",
        "    name = input(\"Enter name to update: \")\n",
        "    if name in phonebook:\n",
        "        new_number = input(\"Enter new number: \")\n",
        "        phonebook[name] = new_number\n",
        "        print(\"🔁 Contact updated.\")\n",
        "    else:\n",
        "        print(\"❌ Contact not found.\")\n",
        "\n",
        "def delete_contact(phonebook):\n",
        "    name = input(\"Enter name to delete: \")\n",
        "    if name in phonebook:\n",
        "        del phonebook[name]\n",
        "        print(\"🗑️ Contact deleted.\")\n",
        "    else:\n",
        "        print(\"❌ Contact not found.\")\n",
        "\n",
        "def main():\n",
        "    phonebook = {}\n",
        "    while True:\n",
        "        display_menu()\n",
        "        choice = input(\"Choose an option (1-6): \")\n",
        "\n",
        "        if choice == \"1\":\n",
        "            add_contact(phonebook)\n",
        "        elif choice == \"2\":\n",
        "            view_contacts(phonebook)\n",
        "        elif choice == \"3\":\n",
        "            lookup_contact(phonebook)\n",
        "        elif choice == \"4\":\n",
        "            update_contact(phonebook)\n",
        "        elif choice == \"5\":\n",
        "            delete_contact(phonebook)\n",
        "        elif choice == \"6\":\n",
        "            print(\"👋 Exiting phonebook. Goodbye!\")\n",
        "            break\n",
        "        else:\n",
        "            print(\"⚠️ Invalid choice. Please select from 1 to 6.\")\n",
        "\n",
        "# Python boilerplate to run the main function\n",
        "if __name__ == '__main__':\n",
        "    main()\n"
      ]
    },
    {
      "cell_type": "code",
      "source": [],
      "metadata": {
        "id": "VCzmlUZe4mtl"
      },
      "execution_count": null,
      "outputs": []
    }
  ]
}