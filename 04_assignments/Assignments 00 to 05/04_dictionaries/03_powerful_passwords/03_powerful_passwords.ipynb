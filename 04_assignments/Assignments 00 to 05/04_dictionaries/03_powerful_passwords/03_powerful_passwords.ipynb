{
  "nbformat": 4,
  "nbformat_minor": 0,
  "metadata": {
    "colab": {
      "provenance": []
    },
    "kernelspec": {
      "name": "python3",
      "display_name": "Python 3"
    },
    "language_info": {
      "name": "python"
    }
  },
  "cells": [
    {
      "cell_type": "code",
      "execution_count": 19,
      "metadata": {
        "id": "rI13vuK4ST7K",
        "colab": {
          "base_uri": "https://localhost:8080/"
        },
        "outputId": "28806529-c696-4bdd-88b4-773ee6c44e40"
      },
      "outputs": [
        {
          "output_type": "stream",
          "name": "stdout",
          "text": [
            "True\n",
            "False\n",
            "False\n"
          ]
        }
      ],
      "source": [
        "import hashlib\n",
        "\n",
        "# Function to hash a password using SHA256\n",
        "def hash_password(password):\n",
        "    return hashlib.sha256(password.encode()).hexdigest()\n",
        "\n",
        "# Dictionary to store emails and hashed passwords\n",
        "stored_logins = {\n",
        "    'user1@example.com': hash_password('mysecurepassword'),\n",
        "    'user2@example.com': hash_password('12345secure'),\n",
        "    'user3@example.com': hash_password('letmein!123')\n",
        "}\n",
        "\n",
        "# Login function\n",
        "def login(email, password_to_check):\n",
        "    # Check if email exists in stored logins\n",
        "    if email in stored_logins:\n",
        "        # Compare stored hash with the hash of the entered password\n",
        "        return stored_logins[email] == hash_password(password_to_check)\n",
        "    else:\n",
        "        return False  # Email not found\n",
        "\n",
        "# Example usage\n",
        "print(login('user1@example.com', 'mysecurepassword'))  # True\n",
        "print(login('user2@example.com', 'wrongpassword'))     # False\n",
        "print(login('unknown@example.com', 'any'))             # False\n",
        "\n"
      ]
    }
  ]
}