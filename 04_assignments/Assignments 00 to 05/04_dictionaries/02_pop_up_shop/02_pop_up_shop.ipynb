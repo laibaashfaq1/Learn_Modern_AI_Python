{
  "nbformat": 4,
  "nbformat_minor": 0,
  "metadata": {
    "colab": {
      "provenance": []
    },
    "kernelspec": {
      "name": "python3",
      "display_name": "Python 3"
    },
    "language_info": {
      "name": "python"
    }
  },
  "cells": [
    {
      "cell_type": "code",
      "execution_count": 18,
      "metadata": {
        "id": "rI13vuK4ST7K",
        "colab": {
          "base_uri": "https://localhost:8080/"
        },
        "outputId": "c9c56548-e21a-4fe5-a12a-78df56ff27e4"
      },
      "outputs": [
        {
          "output_type": "stream",
          "name": "stdout",
          "text": [
            "How many (apple) do you want to buy?: 3\n",
            "How many (durian) do you want to buy?: 6\n",
            "How many (jackfruit) do you want to buy?: 8\n",
            "How many (kiwi) do you want to buy?: 2\n",
            "How many (rambutan) do you want to buy?: 5\n",
            "How many (mango) do you want to buy?: 8\n",
            "\n",
            "Your total cost is: $994.00\n"
          ]
        }
      ],
      "source": [
        "# Function to calculate total fruit cost\n",
        "def fruit_shop():\n",
        "    # Dictionary of fruits with their prices\n",
        "    fruits = {\n",
        "        'apple': 1.5,\n",
        "        'durian': 50,\n",
        "        'jackfruit': 80,\n",
        "        'kiwi': 1,\n",
        "        'rambutan': 1.5,\n",
        "        'mango': 5\n",
        "    }\n",
        "\n",
        "    total_cost = 0  # Initialize total cost\n",
        "\n",
        "    # Loop through each fruit to ask user quantity\n",
        "    for fruit_name in fruits:\n",
        "        price = fruits[fruit_name]\n",
        "        amount = int(input(f\"How many ({fruit_name}) do you want to buy?: \"))\n",
        "        total_cost += price * amount\n",
        "\n",
        "    # Print total cost once, after the loop\n",
        "    print(f\"\\nYour total cost is: ${total_cost:.2f}\")\n",
        "\n",
        "# Call the function\n",
        "fruit_shop()\n"
      ]
    }
  ]
}