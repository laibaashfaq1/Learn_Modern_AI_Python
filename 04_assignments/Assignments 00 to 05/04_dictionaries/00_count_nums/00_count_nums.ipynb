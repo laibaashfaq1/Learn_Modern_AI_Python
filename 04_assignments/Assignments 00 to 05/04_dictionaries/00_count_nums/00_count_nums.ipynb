{
  "nbformat": 4,
  "nbformat_minor": 0,
  "metadata": {
    "colab": {
      "provenance": []
    },
    "kernelspec": {
      "name": "python3",
      "display_name": "Python 3"
    },
    "language_info": {
      "name": "python"
    }
  },
  "cells": [
    {
      "cell_type": "markdown",
      "source": [
        "A dictionary is a built-in data type in Python that stores data in key-value pairs."
      ],
      "metadata": {
        "id": "Z3vqOadI12oP"
      }
    },
    {
      "cell_type": "code",
      "execution_count": 14,
      "metadata": {
        "id": "rI13vuK4ST7K",
        "colab": {
          "base_uri": "https://localhost:8080/"
        },
        "outputId": "95af7a57-2c26-418b-c396-92eddd8fae59"
      },
      "outputs": [
        {
          "output_type": "stream",
          "name": "stdout",
          "text": [
            "Enter a number (or press Enter to stop): 7\n",
            "Enter a number (or press Enter to stop): 8\n",
            "Enter a number (or press Enter to stop): 9\n",
            "Enter a number (or press Enter to stop): 10\n",
            "Enter a number (or press Enter to stop): 11\n",
            "Enter a number (or press Enter to stop): 6\n",
            "Enter a number (or press Enter to stop): \n",
            "\n",
            "Number Count: \n",
            "7 appears 1 times.\n",
            "8 appears 1 times.\n",
            "9 appears 1 times.\n",
            "10 appears 1 times.\n",
            "11 appears 1 times.\n",
            "6 appears 1 times.\n"
          ]
        }
      ],
      "source": [
        "# this program counts how many times each number appears using a dictionary\n",
        "\n",
        "def count_numbers():\n",
        "  # dictionary to store numbers and their counts\n",
        "  number_count={}\n",
        "\n",
        "  while True:\n",
        "    # ask the user to enter a number\n",
        "    num = input(\"Enter a number (or press Enter to stop): \")\n",
        "\n",
        "    # break the loop if input is empty\n",
        "    if num == \"\":\n",
        "      break\n",
        "\n",
        "    # convert input to integer\n",
        "    try:\n",
        "      num = int(num)\n",
        "    except ValueError:\n",
        "      print(\"Invalid input. Please enter a valid number.\")\n",
        "      continue\n",
        "\n",
        "    # update the count in the dictionary\n",
        "    if num in number_count:\n",
        "      number_count[num] = 1\n",
        "    else:\n",
        "      number_count[num] = 1\n",
        "\n",
        "  # print how many times each number appeared\n",
        "  print(\"\\nNumber Count: \")\n",
        "  for number, count in number_count.items():\n",
        "    print(f\"{number} appears {count} times{'s' if count > 1 else ''}.\")\n",
        "\n",
        "# call the function to run the program\n",
        "count_numbers()"
      ]
    }
  ]
}