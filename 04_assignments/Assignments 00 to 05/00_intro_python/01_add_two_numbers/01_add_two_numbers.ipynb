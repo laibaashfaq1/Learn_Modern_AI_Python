{
  "nbformat": 4,
  "nbformat_minor": 0,
  "metadata": {
    "colab": {
      "provenance": []
    },
    "kernelspec": {
      "name": "python3",
      "display_name": "Python 3"
    },
    "language_info": {
      "name": "python"
    }
  },
  "cells": [
    {
      "cell_type": "code",
      "execution_count": 12,
      "metadata": {
        "colab": {
          "base_uri": "https://localhost:8080/"
        },
        "id": "3Jje1eUZxuDk",
        "outputId": "5305f548-2195-4ce5-e6a3-577bf488ba1a"
      },
      "outputs": [
        {
          "output_type": "stream",
          "name": "stdout",
          "text": [
            "Enter The First Number 2\n",
            "Enter The Second Number 7\n",
            "The Total is 2+7=9\n"
          ]
        }
      ],
      "source": [
        "def main():\n",
        "  try:\n",
        "    num1 = (input(\"Enter The First Number \"))\n",
        "    num1 = int(num1)\n",
        "    num2 = (input(\"Enter The Second Number \"))\n",
        "    num2 = int(num2)\n",
        "    total=num1+num2\n",
        "    print(f\"The Total is {num1}+{num2}={total}\")\n",
        "  except ValueError:\n",
        "    print(\"Invalid Input! Please Enter Only Numbers\")\n",
        "main()"
      ]
    },
    {
      "cell_type": "code",
      "source": [],
      "metadata": {
        "id": "rNh_5m8tzG2j"
      },
      "execution_count": 11,
      "outputs": []
    }
  ]
}