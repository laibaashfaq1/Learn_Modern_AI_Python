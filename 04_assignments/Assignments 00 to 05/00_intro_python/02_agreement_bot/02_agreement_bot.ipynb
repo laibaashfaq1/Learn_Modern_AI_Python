{
  "nbformat": 4,
  "nbformat_minor": 0,
  "metadata": {
    "colab": {
      "provenance": []
    },
    "kernelspec": {
      "name": "python3",
      "display_name": "Python 3"
    },
    "language_info": {
      "name": "python"
    }
  },
  "cells": [
    {
      "cell_type": "code",
      "execution_count": 4,
      "metadata": {
        "colab": {
          "base_uri": "https://localhost:8080/"
        },
        "id": "jzli-EtV1BQC",
        "outputId": "2995411d-1521-453b-978a-912c658044b6"
      },
      "outputs": [
        {
          "output_type": "stream",
          "name": "stdout",
          "text": [
            "What is your Favourite animal ? 2\n",
            "My favourite animal is 2\n"
          ]
        }
      ],
      "source": [
        "# Write a program which asks the user what their favorite animal is, and then always responds with \"My favorite animal is also ___!\"\n",
        "#  (the blank should be filled in with the user-inputted animal, of course).\n",
        "\n",
        "def fav () :\n",
        "  animal = input(\"What is your Favourite animal ? \")\n",
        "  print(f\"My favourite animal is {animal}\")\n",
        "fav()"
      ]
    },
    {
      "cell_type": "code",
      "source": [
        "# avoiding number in question\n",
        "def fav_animal():\n",
        "  while True: #Loop until invalid input\n",
        "    animal =input(\"What is you favourite animal\")\n",
        "    if animal.isalpha(): # Check if the input  contain only Letters(no numbers)\n",
        "      print(f\"My favourite animal is {animal}\")\n",
        "      break #Exit loop if valid input\n",
        "    else:\n",
        "      print(\"Invalid input. Please enter a valid animal name.\")\n",
        "fav_animal()\n"
      ],
      "metadata": {
        "colab": {
          "base_uri": "https://localhost:8080/"
        },
        "id": "ysnh5dnS2PY9",
        "outputId": "4274b05f-f692-4233-b060-4f16a2a83cb7"
      },
      "execution_count": 5,
      "outputs": [
        {
          "output_type": "stream",
          "name": "stdout",
          "text": [
            "What is you favourite animal2\n",
            "Invalid input. Please enter a valid animal name.\n",
            "What is you favourite animalLion\n",
            "My favourite animal is Lion\n"
          ]
        }
      ]
    },
    {
      "cell_type": "code",
      "source": [],
      "metadata": {
        "id": "J5ld1w2c5HcM"
      },
      "execution_count": null,
      "outputs": []
    }
  ]
}