{
  "nbformat": 4,
  "nbformat_minor": 0,
  "metadata": {
    "colab": {
      "provenance": []
    },
    "kernelspec": {
      "name": "python3",
      "display_name": "Python 3"
    },
    "language_info": {
      "name": "python"
    }
  },
  "cells": [
    {
      "cell_type": "code",
      "execution_count": 2,
      "metadata": {
        "colab": {
          "base_uri": "https://localhost:8080/"
        },
        "id": "k20zoevaCaTN",
        "outputId": "7201efef-2d8d-44f8-ed84-11f5e9cf0be6"
      },
      "outputs": [
        {
          "output_type": "stream",
          "name": "stdout",
          "text": [
            "Enter a number7\n",
            "The sqaure of 7 is 49\n"
          ]
        }
      ],
      "source": [
        "# Ask the user for a number and print its square (the product of the number times itself)\n",
        "\n",
        "def num():\n",
        "  number = int(input(\"Enter a number\"))\n",
        "  square = number * number\n",
        "  print(f\"The sqaure of {number} is {square}\")\n",
        "\n",
        "num()\n"
      ]
    },
    {
      "cell_type": "code",
      "source": [],
      "metadata": {
        "id": "aOIbLnNSDV5V"
      },
      "execution_count": null,
      "outputs": []
    }
  ]
}