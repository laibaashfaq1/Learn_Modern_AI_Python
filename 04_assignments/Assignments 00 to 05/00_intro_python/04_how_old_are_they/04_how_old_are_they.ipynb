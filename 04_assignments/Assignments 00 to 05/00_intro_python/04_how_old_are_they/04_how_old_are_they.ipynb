{
  "nbformat": 4,
  "nbformat_minor": 0,
  "metadata": {
    "colab": {
      "provenance": []
    },
    "kernelspec": {
      "name": "python3",
      "display_name": "Python 3"
    },
    "language_info": {
      "name": "python"
    }
  },
  "cells": [
    {
      "cell_type": "code",
      "execution_count": 5,
      "metadata": {
        "colab": {
          "base_uri": "https://localhost:8080/"
        },
        "id": "Y3yWOruy9j-T",
        "outputId": "7b293701-4c63-4e45-94ec-6591a984299a"
      },
      "outputs": [
        {
          "output_type": "stream",
          "name": "stdout",
          "text": [
            "Enter temperature in Fahrenheit: 66.0\n",
            "66.0 degrees Fahrenheit is equal to 18.89 degrees Celsius.\n"
          ]
        }
      ],
      "source": [
        "# Function to convert fahrn into cels\n",
        "def fahrn_cels():\n",
        "  try:\n",
        "    # Prompt user for input(accepts decimal values)\n",
        "    fahrenheit = float(input(\"Enter temperature in Fahrenheit: \"))\n",
        "\n",
        "    # Convert to celsius\n",
        "    celsius = (fahrenheit - 32) * 5/9\n",
        "\n",
        "    # Display the result\n",
        "    print(f\"{fahrenheit} degrees Fahrenheit is equal to {celsius:.2f} degrees Celsius.\")\n",
        "\n",
        "  # Exception handling: To prevent non-numeric input errors\n",
        "  except ValueError:\n",
        "    print(\"Invalid Input! Please enter a valid number\")\n",
        "\n",
        "  # Calling function\n",
        "fahrn_cels()"
      ]
    },
    {
      "cell_type": "code",
      "source": [],
      "metadata": {
        "id": "CWd0YuXe-y9T"
      },
      "execution_count": null,
      "outputs": []
    }
  ]
}