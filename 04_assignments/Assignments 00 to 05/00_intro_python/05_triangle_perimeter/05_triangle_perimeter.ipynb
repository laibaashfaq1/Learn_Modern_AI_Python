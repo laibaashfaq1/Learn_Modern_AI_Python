{
  "nbformat": 4,
  "nbformat_minor": 0,
  "metadata": {
    "colab": {
      "provenance": []
    },
    "kernelspec": {
      "name": "python3",
      "display_name": "Python 3"
    },
    "language_info": {
      "name": "python"
    }
  },
  "cells": [
    {
      "cell_type": "code",
      "execution_count": 2,
      "metadata": {
        "colab": {
          "base_uri": "https://localhost:8080/"
        },
        "id": "zZJKT7hvAYFu",
        "outputId": "a212ca2f-1e5e-475d-dc16-5fd7f28b480e"
      },
      "outputs": [
        {
          "output_type": "stream",
          "name": "stdout",
          "text": [
            "Enter the length of the first side of triangle 4\n",
            "Enter the length of the second side of triangle 4\n",
            "Enter the length of the third side of triangle 4\n",
            "The perimeter of the triangle is 12 \n",
            "Enter the length of the first side of triangle 6\n",
            "Enter the length of the second side of triangle 9\n",
            "Enter the length of the third side of triangle 0\n",
            "The perimeter of the triangle is 15\n"
          ]
        }
      ],
      "source": [
        "# Prompt the user to enter the lengths of each side of a triangle and then calculate and\n",
        "# print the perimeter of the triangle (the sum of all of the side lengths).\n",
        "\n",
        "\n",
        "# first method\n",
        "def triangle():\n",
        "  side1 = int(input(\"Enter the length of the first side of triangle \"))\n",
        "  side2 = int(input(\"Enter the length of the second side of triangle \"))\n",
        "  side3 = int(input(\"Enter the length of the third side of triangle \"))\n",
        "  print(f\"The perimeter of the triangle is {side1 + side2 + side3} \")\n",
        "\n",
        "triangle()\n",
        "\n",
        "\n",
        "# second method\n",
        "def per_tri():\n",
        "  side1 = int(input(\"Enter the length of the first side of triangle \"))\n",
        "  side2 = int(input(\"Enter the length of the second side of triangle \"))\n",
        "  side3 = int(input(\"Enter the length of the third side of triangle \"))\n",
        "  perimeter = side1 + side2 + side3\n",
        "  print(f\"The perimeter of the triangle is {perimeter}\")\n",
        "per_tri()"
      ]
    }
  ]
}