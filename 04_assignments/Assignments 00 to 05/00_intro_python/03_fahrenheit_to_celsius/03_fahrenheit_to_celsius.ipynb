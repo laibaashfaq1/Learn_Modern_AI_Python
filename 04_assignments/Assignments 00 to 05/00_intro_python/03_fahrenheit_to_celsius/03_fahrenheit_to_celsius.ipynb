{
  "nbformat": 4,
  "nbformat_minor": 0,
  "metadata": {
    "colab": {
      "provenance": []
    },
    "kernelspec": {
      "name": "python3",
      "display_name": "Python 3"
    },
    "language_info": {
      "name": "python"
    }
  },
  "cells": [
    {
      "cell_type": "code",
      "source": [
        "Write a program which prompts the user for a temperature in Fahrenheit (this can be a number with decimal places!) and outputs the temperature converted to Celsius.\n",
        "\n",
        "The Celsius scale is widely used to measure temperature, but places still use Fahrenheit. Fahrenheit is another unit for temperature, but the scale is different from Celsius -- for example, 0 degrees Celsius is 32 degrees Fahrenheit!\n",
        "\n",
        "The equation you should use for converting from Fahrenheit to Celsius is the following:\n",
        "\n",
        "degrees_celsius = (degrees_fahrenheit - 32) * 5.0/9.0\n",
        "\n",
        "(Note. The .0 after the 5 and 9 matters in the line above!!!)\n",
        "\n",
        "Here's a sample run of the program (user input is in bold italics):\n",
        "\n",
        "Enter temperature in Fahrenheit: 76\n",
        "\n",
        "Temperature: 76.0F = 24.444444444444443C"
      ],
      "metadata": {
        "id": "Z7rtRf1g58hM"
      },
      "execution_count": null,
      "outputs": []
    },
    {
      "cell_type": "code",
      "execution_count": 2,
      "metadata": {
        "colab": {
          "base_uri": "https://localhost:8080/"
        },
        "id": "KBZH7Iis5PA4",
        "outputId": "65517304-e862-41c3-d4cf-d6e532f7d0a9"
      },
      "outputs": [
        {
          "output_type": "stream",
          "name": "stdout",
          "text": [
            "Enter temperature in Fahrenheit: 6\n",
            "Temperatue6F = -14.444444444444445C\n"
          ]
        }
      ],
      "source": [
        "def user_input():\n",
        "  Fahrenheit = int(input(\"Enter temperature in Fahrenheit: \"))\n",
        "  Celsius = (Fahrenheit - 32) * 5.0 / 9.0\n",
        "  print(f\"Temperatue{Fahrenheit}F = {Celsius}C\")\n",
        "user_input()"
      ]
    },
    {
      "cell_type": "code",
      "source": [],
      "metadata": {
        "id": "f4Zf38fa63WV"
      },
      "execution_count": null,
      "outputs": []
    }
  ]
}