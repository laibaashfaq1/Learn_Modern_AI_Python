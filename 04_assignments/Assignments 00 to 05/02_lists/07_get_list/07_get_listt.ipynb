{
  "nbformat": 4,
  "nbformat_minor": 0,
  "metadata": {
    "colab": {
      "provenance": []
    },
    "kernelspec": {
      "name": "python3",
      "display_name": "Python 3"
    },
    "language_info": {
      "name": "python"
    }
  },
  "cells": [
    {
      "cell_type": "code",
      "source": [
        "# Create an empty list to stire user input\n",
        "user_list = []\n",
        "\n",
        "while True:\n",
        "  Value = input(\"Enter the value: \")\n",
        "\n",
        "  if Value == \"\" :\n",
        "    break\n",
        "\n",
        "  user_list.append(Value)\n",
        "\n",
        "print(user_list)\n",
        "\n"
      ],
      "metadata": {
        "colab": {
          "base_uri": "https://localhost:8080/"
        },
        "id": "qAZagOm_n017",
        "outputId": "6678474a-dd1d-418f-fe2a-8279ebfb70ea"
      },
      "execution_count": 7,
      "outputs": [
        {
          "output_type": "stream",
          "name": "stdout",
          "text": [
            "Enter the value: Red\n",
            "Enter the value: Yellow\n",
            "Enter the value: Orange\n",
            "Enter the value: Green\n",
            "Enter the value: All the colors are mentioned baove\n",
            "Enter the value: \n",
            "['Red', 'Yellow', 'Orange', 'Green', 'All the colors are mentioned baove']\n"
          ]
        }
      ]
    }
  ]
}