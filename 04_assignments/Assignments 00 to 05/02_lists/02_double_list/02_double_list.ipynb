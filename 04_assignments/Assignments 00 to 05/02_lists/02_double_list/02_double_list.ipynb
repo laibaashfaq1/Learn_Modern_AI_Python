{
  "nbformat": 4,
  "nbformat_minor": 0,
  "metadata": {
    "colab": {
      "provenance": []
    },
    "kernelspec": {
      "name": "python3",
      "display_name": "Python 3"
    },
    "language_info": {
      "name": "python"
    }
  },
  "cells": [
    {
      "cell_type": "code",
      "execution_count": 11,
      "metadata": {
        "colab": {
          "base_uri": "https://localhost:8080/"
        },
        "id": "E0IhDrtGcvqN",
        "outputId": "a1fd8a30-827b-48b7-e5fa-54e75c32c0e5"
      },
      "outputs": [
        {
          "output_type": "stream",
          "name": "stdout",
          "text": [
            "[2, 4, 6, 8, 10, 12]\n"
          ]
        }
      ],
      "source": [
        "def double_numbers(num):\n",
        "  return[ x * 2 for x in num] #double each element in the list\n",
        "\n",
        "numbers = [1,2,3,4,5,6]\n",
        "doubled_numbers = double_numbers(numbers)\n",
        "print(doubled_numbers)"
      ]
    }
  ]
}