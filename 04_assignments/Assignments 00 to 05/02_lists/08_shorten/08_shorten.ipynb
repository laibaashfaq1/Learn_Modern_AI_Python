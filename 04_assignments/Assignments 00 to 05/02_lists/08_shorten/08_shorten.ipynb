{
  "nbformat": 4,
  "nbformat_minor": 0,
  "metadata": {
    "colab": {
      "provenance": []
    },
    "kernelspec": {
      "name": "python3",
      "display_name": "Python 3"
    },
    "language_info": {
      "name": "python"
    }
  },
  "cells": [
    {
      "cell_type": "code",
      "execution_count": 3,
      "metadata": {
        "id": "rI13vuK4ST7K",
        "colab": {
          "base_uri": "https://localhost:8080/"
        },
        "outputId": "fc3b0cd1-e497-45a3-dd57-41a28f0a783e"
      },
      "outputs": [
        {
          "output_type": "stream",
          "name": "stdout",
          "text": [
            "Please enter an element of the list or press Enter to stop: h\n",
            "Please enter an element of the list or press Enter to stop: e\n",
            "Please enter an element of the list or press Enter to stop: l\n",
            "Please enter an element of the list or press Enter to stop: l\n",
            "Please enter an element of the list or press Enter to stop: o\n",
            "Please enter an element of the list or press Enter to stop: \n",
            "o\n",
            "l\n",
            "Final list: ['h', 'e', 'l']\n"
          ]
        }
      ],
      "source": [
        "MAX_LENGTH = 3  # Set the maximum allowed length of the list\n",
        "\n",
        "# This function shortens the list from the end until it has MAX_LENGTH elements\n",
        "def shorten(lst):\n",
        "    while len(lst) > MAX_LENGTH:\n",
        "        removed_item = lst.pop()  # Remove the last item\n",
        "        print(removed_item)       # Print each removed item\n",
        "    print(\"Final list:\", lst)     # Print the shortened list after processing\n",
        "\n",
        "# This function gets a list from the user using input\n",
        "def get_lst():\n",
        "    lst = []\n",
        "    elem = input(\"Please enter an element of the list or press Enter to stop: \")\n",
        "    while elem != \"\":\n",
        "        lst.append(elem)\n",
        "        elem = input(\"Please enter an element of the list or press Enter to stop: \")\n",
        "    return lst\n",
        "\n",
        "# Main function to run everything\n",
        "def main():\n",
        "    lst = get_lst()      # Get the list from user\n",
        "    shorten(lst)         # Shorten it to MAX_LENGTH\n",
        "\n",
        "# Run the program\n",
        "main()\n",
        "\n"
      ]
    }
  ]
}