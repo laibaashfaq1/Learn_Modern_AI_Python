{
  "nbformat": 4,
  "nbformat_minor": 0,
  "metadata": {
    "colab": {
      "provenance": []
    },
    "kernelspec": {
      "name": "python3",
      "display_name": "Python 3"
    },
    "language_info": {
      "name": "python"
    }
  },
  "cells": [
    {
      "cell_type": "code",
      "source": [
        "# Function toget the last element of a list\n",
        "def get_last_element(last):\n",
        "  print(\"The Last Element From The List is: \",last[-1]) #Accessing the last element of the list\n",
        "\n",
        "# Create an empty list\n",
        "user_list = []\n",
        "\n",
        "# Ask the user how many elements they want to add\n",
        "num_element = int(input(\"How many elements you want to add in the list?: \"))\n",
        "\n",
        "# User a loop to get input one element at a time\n",
        "for i in range(num_element):\n",
        "  item = input(f\"Enter element {i +1}: \")\n",
        "  user_list.append(item) # add each item to the list\n",
        "\n",
        "# Call the function with the completed list\n",
        "get_last_element(user_list)\n"
      ],
      "metadata": {
        "colab": {
          "base_uri": "https://localhost:8080/"
        },
        "id": "qAZagOm_n017",
        "outputId": "0cf161d6-4475-4138-946f-716cf23c9e55"
      },
      "execution_count": 3,
      "outputs": [
        {
          "output_type": "stream",
          "name": "stdout",
          "text": [
            "How many elements you want to add in the list?: 7\n",
            "Enter element 1: Apple\n",
            "Enter element 2: Banana\n",
            "Enter element 3: Mango\n",
            "Enter element 4: Pineapple\n",
            "Enter element 5: Orange\n",
            "Enter element 6: Grapes\n",
            "Enter element 7: WaterMelon\n",
            "The Last Element From The List is:  WaterMelon\n"
          ]
        }
      ]
    }
  ]
}