{
  "nbformat": 4,
  "nbformat_minor": 0,
  "metadata": {
    "colab": {
      "provenance": []
    },
    "kernelspec": {
      "name": "python3",
      "display_name": "Python 3"
    },
    "language_info": {
      "name": "python"
    }
  },
  "cells": [
    {
      "cell_type": "code",
      "execution_count": 8,
      "metadata": {
        "colab": {
          "base_uri": "https://localhost:8080/"
        },
        "id": "dL7GbvWqcXTC",
        "outputId": "9f07a22a-0a98-4845-dee7-80d683692730"
      },
      "outputs": [
        {
          "output_type": "stream",
          "name": "stdout",
          "text": [
            "Enter a message to copy: Python Code\n",
            "List Before: []\n",
            "List After: ['Python Code', 'Python Code', 'Python Code']\n"
          ]
        }
      ],
      "source": [
        "# Define a function that takes a list and some data\n",
        "# It adds three copies of the data to the list using append()\n",
        "\n",
        "def add_three_copies(mylist, data):\n",
        "  mylist.append(data)  # Add first copy\n",
        "  mylist.append(data)  # Add second copy\n",
        "  mylist.append(data)  # Add third copy\n",
        "\n",
        "# Ask the user to enter a message\n",
        "user_message = input(\"Enter a message to copy: \")  # e.g., Hello World!\n",
        "\n",
        "# Create an empty list to store the message\n",
        "message = []\n",
        "\n",
        "# Print the list before adding anything\n",
        "print(\"List Before:\", message)  # Output: List Before: []\n",
        "\n",
        "# Call the function to add three copies of the message to the list\n",
        "add_three_copies(message, user_message)\n",
        "\n",
        "# Print the list after adding three copies\n",
        "print(\"List After:\", message)  # Output: ['Hello World!', 'Hello World!', 'Hello World!']\n",
        "\n"
      ]
    },
    {
      "cell_type": "code",
      "source": [
        "# Define a function that takes a list and some data\n",
        "# It adds three copies of the data to the list using a loop\n",
        "def add_three_copies(mylist, data):\n",
        "    for i in range(3):  # Repeat 3 times\n",
        "        mylist.append(data)  # Add the data to the list\n",
        "\n",
        "# Ask the user to enter a message\n",
        "user_message = input(\"Enter a message to copy: \")  # e.g., Hello World!\n",
        "\n",
        "# Create an empty list to store the message copies\n",
        "message_list = []\n",
        "\n",
        "# Print the list before adding anything\n",
        "print(\"List Before:\", message_list)  # Output: List Before: []\n",
        "\n",
        "# Call the function to add three copies of the user's message to the list\n",
        "add_three_copies(message_list, user_message)\n",
        "\n",
        "# Print the list after adding three copies\n",
        "print(\"List After:\", message_list)  # Output: ['Hello World!', 'Hello World!', 'Hello World!']\n"
      ],
      "metadata": {
        "colab": {
          "base_uri": "https://localhost:8080/"
        },
        "id": "qAZagOm_n017",
        "outputId": "9a4edbc2-043f-4e14-aa2a-e265e2f79eaa"
      },
      "execution_count": 6,
      "outputs": [
        {
          "output_type": "stream",
          "name": "stdout",
          "text": [
            "Enter a message to copy: Welcome to Python World\n",
            "List Before: []\n",
            "List After: ['Welcome to Python World', 'Welcome to Python World', 'Welcome to Python World']\n"
          ]
        }
      ]
    }
  ]
}