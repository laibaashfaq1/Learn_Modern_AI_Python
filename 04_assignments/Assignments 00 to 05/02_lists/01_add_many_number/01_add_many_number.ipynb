{
  "nbformat": 4,
  "nbformat_minor": 0,
  "metadata": {
    "colab": {
      "provenance": []
    },
    "kernelspec": {
      "name": "python3",
      "display_name": "Python 3"
    },
    "language_info": {
      "name": "python"
    }
  },
  "cells": [
    {
      "cell_type": "code",
      "execution_count": 18,
      "metadata": {
        "colab": {
          "base_uri": "https://localhost:8080/"
        },
        "id": "E0IhDrtGcvqN",
        "outputId": "02a05284-9789-4d74-9937-56c19672e970"
      },
      "outputs": [
        {
          "output_type": "stream",
          "name": "stdout",
          "text": [
            "15\n"
          ]
        }
      ],
      "source": [
        "def add_many_numbers(num):\n",
        "    total = 0\n",
        "    for i in num:\n",
        "     total += i\n",
        "    return total\n",
        "numbers:list =  [1,2,3,4,5]\n",
        "print(add_many_numbers(numbers))\n",
        "\n"
      ]
    }
  ]
}