{
  "nbformat": 4,
  "nbformat_minor": 0,
  "metadata": {
    "colab": {
      "provenance": []
    },
    "kernelspec": {
      "name": "python3",
      "display_name": "Python 3"
    },
    "language_info": {
      "name": "python"
    }
  },
  "cells": [
    {
      "cell_type": "code",
      "source": [
        "# Function to get the first element of a list\n",
        "def get_first_element(lst):\n",
        "    print(\"The first element is:\", lst[0])  # Accessing the first element using index 0\n",
        "\n",
        "# Create an empty list\n",
        "user_list = []\n",
        "\n",
        "# Ask the user how many elements they want to input\n",
        "num_elements = int(input(\"How many elements do you want to add to the list? \"))\n",
        "\n",
        "# Use a loop to get input one element at a time\n",
        "for i in range(num_elements):\n",
        "    item = input(f\"Enter element {i + 1}: \")\n",
        "    user_list.append(item)  # Add each item to the list\n",
        "\n",
        "# Call the function with the completed list\n",
        "get_first_element(user_list)\n"
      ],
      "metadata": {
        "colab": {
          "base_uri": "https://localhost:8080/"
        },
        "id": "qAZagOm_n017",
        "outputId": "a126102b-daed-4841-ffa1-d24b86582083"
      },
      "execution_count": 1,
      "outputs": [
        {
          "output_type": "stream",
          "name": "stdout",
          "text": [
            "How many elements do you want to add to the list? 4\n",
            "Enter element 1: 4\n",
            "Enter element 2: 5\n",
            "Enter element 3: 6\n",
            "Enter element 4: 7\n",
            "The first element is: 4\n"
          ]
        }
      ]
    }
  ]
}