{
  "nbformat": 4,
  "nbformat_minor": 0,
  "metadata": {
    "colab": {
      "provenance": []
    },
    "kernelspec": {
      "name": "python3",
      "display_name": "Python 3"
    },
    "language_info": {
      "name": "python"
    }
  },
  "cells": [
    {
      "cell_type": "code",
      "source": [
        "# Creating a function to print even numbers\n",
        "def even_number():\n",
        "  # Loop runs 20 times, from i = 0 to i = 19\n",
        "  for i in range(20):\n",
        "    # Each number is multiplied by 2 to get an even number\n",
        "    print(i * 2)\n",
        "\n",
        "# Calling the function to execute it\n",
        "even_number()\n"
      ],
      "metadata": {
        "colab": {
          "base_uri": "https://localhost:8080/"
        },
        "id": "p9woaV88QeO0",
        "outputId": "93509c57-89ef-49dc-aaaf-277e137044c0"
      },
      "execution_count": 8,
      "outputs": [
        {
          "output_type": "stream",
          "name": "stdout",
          "text": [
            "0\n",
            "2\n",
            "4\n",
            "6\n",
            "8\n",
            "10\n",
            "12\n",
            "14\n",
            "16\n",
            "18\n",
            "20\n",
            "22\n",
            "24\n",
            "26\n",
            "28\n",
            "30\n",
            "32\n",
            "34\n",
            "36\n",
            "38\n"
          ]
        }
      ]
    }
  ]
}