{
  "nbformat": 4,
  "nbformat_minor": 0,
  "metadata": {
    "colab": {
      "provenance": []
    },
    "kernelspec": {
      "name": "python3",
      "display_name": "Python 3"
    },
    "language_info": {
      "name": "python"
    }
  },
  "cells": [
    {
      "cell_type": "code",
      "source": [
        "# Define the affirmation\n",
        "affirmation = \"I am capable of doing anything I put my mind to.\"\n",
        "\n",
        "# creating function\n",
        "def affir():\n",
        "  # Start the loop\n",
        "  while True:\n",
        "      # Prompt user to type the affirmation\n",
        "      print(\"Please type the following affirmation:\")\n",
        "      user_input = input()\n",
        "\n",
        "      # Check if user input matches the affirmation\n",
        "      if user_input == affirmation:\n",
        "         print(\"That's right! :)\")\n",
        "         break  # Exit loop if correct\n",
        "      else:\n",
        "         print(\"Hmmm That was not the affirmation.\")\n",
        "# calling function\n",
        "affir()"
      ],
      "metadata": {
        "colab": {
          "base_uri": "https://localhost:8080/"
        },
        "id": "p9woaV88QeO0",
        "outputId": "dc3bc672-bc60-4ec6-f705-326f2e4049ff"
      },
      "execution_count": 11,
      "outputs": [
        {
          "output_type": "stream",
          "name": "stdout",
          "text": [
            "Please type the following affirmation:\n",
            "i am capabale of doing anything\n",
            "Hmmm That was not the affirmation.\n",
            "Please type the following affirmation:\n",
            "I am capable of doing anything I put my mind to.\n",
            "That's right! :)\n"
          ]
        }
      ]
    }
  ]
}