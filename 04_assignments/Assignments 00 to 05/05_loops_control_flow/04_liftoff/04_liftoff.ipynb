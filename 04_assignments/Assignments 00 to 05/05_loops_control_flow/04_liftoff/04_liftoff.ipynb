{
  "nbformat": 4,
  "nbformat_minor": 0,
  "metadata": {
    "colab": {
      "provenance": []
    },
    "kernelspec": {
      "name": "python3",
      "display_name": "Python 3"
    },
    "language_info": {
      "name": "python"
    }
  },
  "cells": [
    {
      "cell_type": "code",
      "source": [
        "# Countdown from 10 to 1 using a for loop\n",
        "for i in range(10):\n",
        "    print(10 - i, end=' ')\n",
        "\n",
        "# After the countdown, print Liftoff!\n",
        "print(\"Liftoff!\")\n"
      ],
      "metadata": {
        "colab": {
          "base_uri": "https://localhost:8080/"
        },
        "id": "p9woaV88QeO0",
        "outputId": "2421dbdc-87ff-4094-fe79-4ab8c9e90553"
      },
      "execution_count": 12,
      "outputs": [
        {
          "output_type": "stream",
          "name": "stdout",
          "text": [
            "10 9 8 7 6 5 4 3 2 1 Liftoff!\n"
          ]
        }
      ]
    }
  ]
}