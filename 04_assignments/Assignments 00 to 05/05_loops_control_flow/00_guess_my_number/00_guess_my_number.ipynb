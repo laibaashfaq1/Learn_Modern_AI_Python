{
  "nbformat": 4,
  "nbformat_minor": 0,
  "metadata": {
    "colab": {
      "provenance": []
    },
    "kernelspec": {
      "name": "python3",
      "display_name": "Python 3"
    },
    "language_info": {
      "name": "python"
    }
  },
  "cells": [
    {
      "cell_type": "code",
      "source": [
        "import random  # Import random module to generate random numbers\n",
        "\n",
        "def number_guess():\n",
        "    # Generate a secret number between 0 and 99\n",
        "    secret_number = random.randint(0, 99)\n",
        "    print(\"I'm thinking of a number between 0 and 99.\")\n",
        "\n",
        "    while True:\n",
        "        try:\n",
        "            # Ask user for their guess\n",
        "            guess = int(input(\"Take a guess: \"))\n",
        "\n",
        "            # Compare the guess with the secret number\n",
        "            if guess > secret_number:\n",
        "                print(\"Your guessed number is too high.\\n\")\n",
        "            elif guess < secret_number:\n",
        "                print(\"Your guessed number is too low.\\n\")\n",
        "            else:\n",
        "                print(\"Congratulations! You guessed the number correctly.\")\n",
        "                break  # Exit loop if correct\n",
        "        except ValueError:\n",
        "            print(\"Invalid input. Please enter a number.\\n\")\n",
        "\n",
        "# Call the function to run the game\n",
        "number_guess()\n"
      ],
      "metadata": {
        "colab": {
          "base_uri": "https://localhost:8080/"
        },
        "id": "p9woaV88QeO0",
        "outputId": "c93a896b-9952-4967-c19b-066b17371d31"
      },
      "execution_count": 9,
      "outputs": [
        {
          "output_type": "stream",
          "name": "stdout",
          "text": [
            "I'm thinking of a number between 0 and 99.\n",
            "Take a guess: 6\n",
            "Your guessed number is too low.\n",
            "\n",
            "Take a guess: 70\n",
            "Your guessed number is too high.\n",
            "\n",
            "Take a guess: 60\n",
            "Your guessed number is too high.\n",
            "\n",
            "Take a guess: 50\n",
            "Your guessed number is too high.\n",
            "\n",
            "Take a guess: 40\n",
            "Your guessed number is too low.\n",
            "\n",
            "Take a guess: 40\n",
            "Your guessed number is too low.\n",
            "\n",
            "Take a guess: 49\n",
            "Your guessed number is too high.\n",
            "\n",
            "Take a guess: 48\n",
            "Your guessed number is too high.\n",
            "\n",
            "Take a guess: 46\n",
            "Your guessed number is too high.\n",
            "\n",
            "Take a guess: 42\n",
            "Congratulations! You guessed the number correctly.\n"
          ]
        }
      ]
    }
  ]
}