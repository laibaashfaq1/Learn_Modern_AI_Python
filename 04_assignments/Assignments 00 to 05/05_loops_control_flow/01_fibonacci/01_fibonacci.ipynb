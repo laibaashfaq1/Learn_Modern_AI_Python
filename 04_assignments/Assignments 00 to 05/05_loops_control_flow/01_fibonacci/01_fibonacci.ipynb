{
  "nbformat": 4,
  "nbformat_minor": 0,
  "metadata": {
    "colab": {
      "provenance": []
    },
    "kernelspec": {
      "name": "python3",
      "display_name": "Python 3"
    },
    "language_info": {
      "name": "python"
    }
  },
  "cells": [
    {
      "cell_type": "code",
      "source": [
        "# Define the maximum value for the Fibonacci sequence\n",
        "MAX_VALUE = 10000\n",
        "\n",
        "def print_fibonacci_sequence():\n",
        "    # First two Fibonacci numbers\n",
        "    a, b = 0, 1\n",
        "\n",
        "    # Print the sequence while terms are less than MAX_VALUE\n",
        "    while a < MAX_VALUE:\n",
        "        print(a, end=\" \")  # Print the current number\n",
        "        a, b = b, a + b     # Update to the next two numbers in sequence\n",
        "\n",
        "# Call the function to display the sequence\n",
        "print_fibonacci_sequence()\n"
      ],
      "metadata": {
        "colab": {
          "base_uri": "https://localhost:8080/"
        },
        "id": "p9woaV88QeO0",
        "outputId": "835e1add-3661-4323-828e-da02b9a8989e"
      },
      "execution_count": 5,
      "outputs": [
        {
          "output_type": "stream",
          "name": "stdout",
          "text": [
            "0 1 1 2 3 5 8 13 21 34 55 89 144 233 377 610 987 1597 2584 4181 6765 "
          ]
        }
      ]
    }
  ]
}