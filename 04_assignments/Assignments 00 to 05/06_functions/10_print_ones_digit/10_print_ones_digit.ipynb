{
  "nbformat": 4,
  "nbformat_minor": 0,
  "metadata": {
    "colab": {
      "provenance": []
    },
    "kernelspec": {
      "name": "python3",
      "display_name": "Python 3"
    },
    "language_info": {
      "name": "python"
    }
  },
  "cells": [
    {
      "cell_type": "code",
      "source": [
        "# Function to print the ones digit of the given number\n",
        "def print_ones_digit(num):\n",
        "    ones_digit = num % 10  # Get the remainder when num is divided by 10\n",
        "    print(f\"The ones digit is {ones_digit}\")\n",
        "\n",
        "# Main function to take input and call the helper function\n",
        "def main():\n",
        "    try:\n",
        "        # Ask the user to enter a number\n",
        "        number = int(input(\"Enter a number: \"))\n",
        "        # Call the function to print ones digit\n",
        "        print_ones_digit(number)\n",
        "    except ValueError:\n",
        "        print(\"Please enter a valid integer.\")\n",
        "\n",
        "# Call the main function to run the program\n",
        "main()\n"
      ],
      "metadata": {
        "colab": {
          "base_uri": "https://localhost:8080/"
        },
        "id": "p9woaV88QeO0",
        "outputId": "e24caf16-1b29-4faf-d5c6-7f4597de52c7"
      },
      "execution_count": 28,
      "outputs": [
        {
          "output_type": "stream",
          "name": "stdout",
          "text": [
            "Enter a number: 25\n",
            "The ones digit is 5\n"
          ]
        }
      ]
    }
  ]
}