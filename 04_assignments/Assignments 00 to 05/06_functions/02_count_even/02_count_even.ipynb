{
  "nbformat": 4,
  "nbformat_minor": 0,
  "metadata": {
    "colab": {
      "provenance": []
    },
    "kernelspec": {
      "name": "python3",
      "display_name": "Python 3"
    },
    "language_info": {
      "name": "python"
    }
  },
  "cells": [
    {
      "cell_type": "code",
      "source": [
        "# Creating function to count even numbers from user input\n",
        "def count_even():\n",
        "    integers = []  # Initialize an empty list to store integers\n",
        "\n",
        "    # Ask user for integers until they press enter without typing a number\n",
        "    while True:\n",
        "        user_input = input(\"Enter an integer or press enter to stop: \")\n",
        "        if user_input == \"\":\n",
        "            break  # Stop the loop if input is empty (user pressed Enter)\n",
        "        try:\n",
        "            number = int(user_input)  # Convert input to integer\n",
        "            integers.append(number)  # Add number to the list\n",
        "        except ValueError:\n",
        "            print(\"Invalid input! Please enter a valid integer.\")  # Handle non-integer inputs\n",
        "\n",
        "    # Count the even numbers in the list\n",
        "    even_count = 0\n",
        "    for num in integers:\n",
        "        if num % 2 == 0:\n",
        "            even_count += 1  # Increase count if number is even\n",
        "\n",
        "    print(f\"Even Numbers: {even_count}\")  # Print the final count\n",
        "\n",
        "# Call the function\n",
        "count_even()\n"
      ],
      "metadata": {
        "colab": {
          "base_uri": "https://localhost:8080/"
        },
        "id": "p9woaV88QeO0",
        "outputId": "3f1ca0b6-b076-4f76-ce63-5249bc6999b1"
      },
      "execution_count": 2,
      "outputs": [
        {
          "output_type": "stream",
          "name": "stdout",
          "text": [
            "Enter an integer or press enter to stop: 1\n",
            "Enter an integer or press enter to stop: 2\n",
            "Enter an integer or press enter to stop: 5\n",
            "Enter an integer or press enter to stop: 6\n",
            "Enter an integer or press enter to stop: 7\n",
            "Enter an integer or press enter to stop: 8\n",
            "Enter an integer or press enter to stop: 3\n",
            "Enter an integer or press enter to stop: \n",
            "Even Numbers: 3\n"
          ]
        }
      ]
    }
  ]
}