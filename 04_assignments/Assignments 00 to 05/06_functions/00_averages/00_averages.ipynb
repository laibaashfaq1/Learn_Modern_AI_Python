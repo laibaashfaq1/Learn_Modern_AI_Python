{
  "nbformat": 4,
  "nbformat_minor": 0,
  "metadata": {
    "colab": {
      "provenance": []
    },
    "kernelspec": {
      "name": "python3",
      "display_name": "Python 3"
    },
    "language_info": {
      "name": "python"
    }
  },
  "cells": [
    {
      "cell_type": "code",
      "source": [
        "# Function to find the average of two numbers\n",
        "def find_average(num1, num2):\n",
        "    # Calculate the average by adding both numbers and dividing by 2\n",
        "    average = (num1 + num2) / 2\n",
        "    # Return the calculated average\n",
        "    return average\n",
        "\n",
        "# Asking the user to enter the first number and converting it to float\n",
        "a = float(input(\"Enter first number: \"))\n",
        "\n",
        "# Asking the user to enter the second number and converting it to float\n",
        "b = float(input(\"Enter second number: \"))\n",
        "\n",
        "# Calling the function and storing the result\n",
        "result = find_average(a, b)\n",
        "\n",
        "# Displaying the result to the user\n",
        "print(f\"The average of {a} and {b} is {result}\")\n",
        "\n"
      ],
      "metadata": {
        "colab": {
          "base_uri": "https://localhost:8080/"
        },
        "id": "p9woaV88QeO0",
        "outputId": "3df91088-b27f-478e-c8eb-f1310ae9131a"
      },
      "execution_count": 15,
      "outputs": [
        {
          "output_type": "stream",
          "name": "stdout",
          "text": [
            "Enter first number: 3\n",
            "Enter second number: 7\n",
            "The average of 3.0 and 7.0 is 5.0\n"
          ]
        }
      ]
    }
  ]
}