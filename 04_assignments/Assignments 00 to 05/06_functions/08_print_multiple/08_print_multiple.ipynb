{
  "nbformat": 4,
  "nbformat_minor": 0,
  "metadata": {
    "colab": {
      "provenance": []
    },
    "kernelspec": {
      "name": "python3",
      "display_name": "Python 3"
    },
    "language_info": {
      "name": "python"
    }
  },
  "cells": [
    {
      "cell_type": "code",
      "source": [
        "def print_multiple(message, repeat):\n",
        "    \"\"\"\n",
        "    Prints the message a specified number of times.\n",
        "    \"\"\"\n",
        "    for i in range(repeat):\n",
        "        print(message)\n",
        "\n",
        "def print_message():\n",
        "    # Get the message as a string (no need to convert to int)\n",
        "    message = input(\"Enter a message: \")\n",
        "\n",
        "    # Get the number of times to repeat the message, converted to integer\n",
        "    repeat = int(input(\"Enter a number of times to repeat the message: \"))\n",
        "\n",
        "    # Call the function to print the message multiple times\n",
        "    print_multiple(message, repeat)\n",
        "\n",
        "# Call the main function to run the program\n",
        "print_message()\n"
      ],
      "metadata": {
        "colab": {
          "base_uri": "https://localhost:8080/"
        },
        "id": "p9woaV88QeO0",
        "outputId": "777997f2-00d3-440a-8ad2-9c577c90f948"
      },
      "execution_count": 25,
      "outputs": [
        {
          "output_type": "stream",
          "name": "stdout",
          "text": [
            "Enter a message: You’re here to shine—let’s get started! ✨\n",
            "Enter a number of times to repeat the message: 7\n",
            "You’re here to shine—let’s get started! ✨\n",
            "You’re here to shine—let’s get started! ✨\n",
            "You’re here to shine—let’s get started! ✨\n",
            "You’re here to shine—let’s get started! ✨\n",
            "You’re here to shine—let’s get started! ✨\n",
            "You’re here to shine—let’s get started! ✨\n",
            "You’re here to shine—let’s get started! ✨\n"
          ]
        }
      ]
    }
  ]
}