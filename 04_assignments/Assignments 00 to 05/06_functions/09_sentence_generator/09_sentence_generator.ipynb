{
  "nbformat": 4,
  "nbformat_minor": 0,
  "metadata": {
    "colab": {
      "provenance": []
    },
    "kernelspec": {
      "name": "python3",
      "display_name": "Python 3"
    },
    "language_info": {
      "name": "python"
    }
  },
  "cells": [
    {
      "cell_type": "code",
      "source": [
        "# Function to construct and print a sentence using the given word and its part of speech\n",
        "def make_sentence(word, part_of_speech):\n",
        "    \"\"\"\n",
        "    Prints a sentence based on the word and its part of speech.\n",
        "    part_of_speech:\n",
        "      0 = noun\n",
        "      1 = verb\n",
        "      2 = adjective\n",
        "    \"\"\"\n",
        "    # Check if the word is a noun\n",
        "    if part_of_speech == 0:\n",
        "        print(f\"I am excited to add this {word} to my vast collection of them!\")\n",
        "\n",
        "    # Check if the word is a verb\n",
        "    elif part_of_speech == 1:\n",
        "        print(f\"It's so nice outside today it makes me want to {word}!\")\n",
        "\n",
        "    # Check if the word is an adjective\n",
        "    elif part_of_speech == 2:\n",
        "        print(f\"Looking out my window, the sky is big and {word}!\")\n",
        "\n",
        "    # If the input doesn't match any known part of speech\n",
        "    else:\n",
        "        print(\"Invalid part of speech. Please enter 0 (noun), 1 (verb), or 2 (adjective).\")\n",
        "\n",
        "\n",
        "# Main function to prompt user input and call make_sentence\n",
        "def main():\n",
        "    # Ask user to input a word\n",
        "    word = input(\"Please type a noun, verb, or adjective: \")\n",
        "\n",
        "    try:\n",
        "        # Ask user to specify the part of speech\n",
        "        part_of_speech = int(input(\"Is this a noun, verb, or adjective? Type 0 for noun, 1 for verb, 2 for adjective: \"))\n",
        "\n",
        "        # Call the function with user inputs\n",
        "        make_sentence(word, part_of_speech)\n",
        "\n",
        "    # Handle invalid input (e.g. if user enters non-integer)\n",
        "    except ValueError:\n",
        "        print(\"Please enter a valid number for the part of speech.\")\n",
        "\n",
        "\n",
        "# Call the main function to start the program\n",
        "main()\n"
      ],
      "metadata": {
        "colab": {
          "base_uri": "https://localhost:8080/"
        },
        "id": "p9woaV88QeO0",
        "outputId": "713ccae0-41a4-4455-daca-cfb141044fbe"
      },
      "execution_count": 27,
      "outputs": [
        {
          "output_type": "stream",
          "name": "stdout",
          "text": [
            "Please type a noun, verb, or adjective: blue\n",
            "Is this a noun, verb, or adjective? Type 0 for noun, 1 for verb, 2 for adjective: 2\n",
            "Looking out my window, the sky is big and blue!\n"
          ]
        }
      ]
    }
  ]
}