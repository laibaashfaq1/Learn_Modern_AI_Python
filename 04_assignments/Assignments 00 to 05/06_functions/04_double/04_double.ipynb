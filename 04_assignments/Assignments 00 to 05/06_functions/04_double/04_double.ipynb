{
  "nbformat": 4,
  "nbformat_minor": 0,
  "metadata": {
    "colab": {
      "provenance": []
    },
    "kernelspec": {
      "name": "python3",
      "display_name": "Python 3"
    },
    "language_info": {
      "name": "python"
    }
  },
  "cells": [
    {
      "cell_type": "code",
      "source": [
        "def double_num(num: int):\n",
        "  return num * 2\n",
        "\n",
        "def main() :\n",
        "  num = int(input(\"Enter a number: \"))\n",
        "  num_time_2 = double_num(num)\n",
        "  print(\"Double number is\", {num_time_2})\n",
        "\n",
        "main()"
      ],
      "metadata": {
        "colab": {
          "base_uri": "https://localhost:8080/"
        },
        "id": "p9woaV88QeO0",
        "outputId": "5938030c-2dd1-4bf5-aefb-be4e7ab85e95"
      },
      "execution_count": 8,
      "outputs": [
        {
          "output_type": "stream",
          "name": "stdout",
          "text": [
            "Enter a number: 6\n",
            "Double number is {12}\n"
          ]
        }
      ]
    }
  ]
}