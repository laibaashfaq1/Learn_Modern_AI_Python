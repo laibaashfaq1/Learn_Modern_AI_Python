{
  "nbformat": 4,
  "nbformat_minor": 0,
  "metadata": {
    "colab": {
      "provenance": []
    },
    "kernelspec": {
      "name": "python3",
      "display_name": "Python 3"
    },
    "language_info": {
      "name": "python"
    }
  },
  "cells": [
    {
      "cell_type": "code",
      "source": [
        "def print_divisor(num:int):\n",
        "  print(\"Here is the divisor of\",num)\n",
        "  for i in  range(num):\n",
        "    curr_divisor = i + 1\n",
        "    if num % curr_divisor == 0:\n",
        "      print(curr_divisor)\n",
        "\n",
        "def main():\n",
        "  num = int(input(\"Enter a number: \"))\n",
        "  print_divisor(num)\n",
        "\n",
        "main()"
      ],
      "metadata": {
        "colab": {
          "base_uri": "https://localhost:8080/"
        },
        "id": "p9woaV88QeO0",
        "outputId": "1d78eed2-2230-4ad1-9026-f3ce03e9fe2e"
      },
      "execution_count": 23,
      "outputs": [
        {
          "output_type": "stream",
          "name": "stdout",
          "text": [
            "Enter a number: 32\n",
            "Here is the divisor of 32\n",
            "1\n",
            "2\n",
            "4\n",
            "8\n",
            "16\n",
            "32\n"
          ]
        }
      ]
    }
  ]
}