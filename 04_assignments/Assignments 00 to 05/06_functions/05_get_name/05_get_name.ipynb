{
  "nbformat": 4,
  "nbformat_minor": 0,
  "metadata": {
    "colab": {
      "provenance": []
    },
    "kernelspec": {
      "name": "python3",
      "display_name": "Python 3"
    },
    "language_info": {
      "name": "python"
    }
  },
  "cells": [
    {
      "cell_type": "code",
      "source": [
        "def get_name():\n",
        "  return \"Laiba\" # this call your name\n",
        "\n",
        "def main() :\n",
        "  name = get_name()\n",
        "  print(f\"Hello {name}, welcome! Let’s make something amazing today. 💻\")\n",
        "\n",
        "main()"
      ],
      "metadata": {
        "colab": {
          "base_uri": "https://localhost:8080/"
        },
        "id": "p9woaV88QeO0",
        "outputId": "234b6157-c35c-4ab9-f7f1-379eeccdd079"
      },
      "execution_count": 11,
      "outputs": [
        {
          "output_type": "stream",
          "name": "stdout",
          "text": [
            "Hello Laiba, welcome! Let’s make something amazing today. 💻\n"
          ]
        }
      ]
    }
  ]
}