{
  "nbformat": 4,
  "nbformat_minor": 0,
  "metadata": {
    "colab": {
      "provenance": []
    },
    "kernelspec": {
      "name": "python3",
      "display_name": "Python 3"
    },
    "language_info": {
      "name": "python"
    }
  },
  "cells": [
    {
      "cell_type": "code",
      "execution_count": 9,
      "metadata": {
        "id": "rI13vuK4ST7K",
        "colab": {
          "base_uri": "https://localhost:8080/"
        },
        "outputId": "9a08faa8-ac19-4f5b-982c-a2b5cad378b7"
      },
      "outputs": [
        {
          "output_type": "stream",
          "name": "stdout",
          "text": [
            "How old are you? 14\n",
            "❌ You can't vote in Peturksbouipo because the voting age is 16.\n",
            "❌ You can't vote in Stanlau because the voting age is 25.\n",
            "❌ You can't vote in Mayengua because the voting age is 48.\n"
          ]
        }
      ],
      "source": [
        "# Ages of countries where people are allowed to vote\n",
        "PETURKSBOUIPO_AGE: int = 16   # Voting age in Peturksbouipo\n",
        "STANLAU_AGE: int = 25         # Voting age in Stanlau\n",
        "MAYENGUA_AGE: int = 48        # Voting age in Mayengua\n",
        "\n",
        "# Function to check voting eligibility in different countries\n",
        "def voting_age():\n",
        "    # Asking user's age\n",
        "    try:\n",
        "        person_age = int(input(\"How old are you? \"))  # Convert input to integer\n",
        "    except ValueError:\n",
        "        print(\"❌ Please enter a valid number.\")\n",
        "        return\n",
        "\n",
        "    # Check eligibility for Peturksbouipo\n",
        "    if person_age >= PETURKSBOUIPO_AGE:\n",
        "        print(\"✅ You can vote in Peturksbouipo where the voting age is \" + str(PETURKSBOUIPO_AGE) + \".\")\n",
        "    else:\n",
        "        print(\"❌ You can't vote in Peturksbouipo because the voting age is \" + str(PETURKSBOUIPO_AGE) + \".\")\n",
        "\n",
        "    # Check eligibility for Stanlau\n",
        "    if person_age >= STANLAU_AGE:\n",
        "        print(\"✅ You can vote in Stanlau where the voting age is \" + str(STANLAU_AGE) + \".\")\n",
        "    else:\n",
        "        print(\"❌ You can't vote in Stanlau because the voting age is \" + str(STANLAU_AGE) + \".\")\n",
        "\n",
        "    # Check eligibility for Mayengua\n",
        "    if person_age >= MAYENGUA_AGE:\n",
        "        print(\"✅ You can vote in Mayengua where the voting age is \" + str(MAYENGUA_AGE) + \".\")\n",
        "    else:\n",
        "        print(\"❌ You can't vote in Mayengua because the voting age is \" + str(MAYENGUA_AGE) + \".\")\n",
        "\n",
        "# Calling the function to run the program\n",
        "voting_age()\n"
      ]
    }
  ]
}