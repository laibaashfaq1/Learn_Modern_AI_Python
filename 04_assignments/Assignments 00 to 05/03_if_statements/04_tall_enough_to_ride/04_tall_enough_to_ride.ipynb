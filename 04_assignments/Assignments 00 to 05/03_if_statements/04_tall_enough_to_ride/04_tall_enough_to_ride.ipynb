{
  "nbformat": 4,
  "nbformat_minor": 0,
  "metadata": {
    "colab": {
      "provenance": []
    },
    "kernelspec": {
      "name": "python3",
      "display_name": "Python 3"
    },
    "language_info": {
      "name": "python"
    }
  },
  "cells": [
    {
      "cell_type": "code",
      "execution_count": 4,
      "metadata": {
        "id": "rI13vuK4ST7K",
        "colab": {
          "base_uri": "https://localhost:8080/"
        },
        "outputId": "d3a8e722-a259-49ae-fc74-2030340a8ae6"
      },
      "outputs": [
        {
          "output_type": "stream",
          "name": "stdout",
          "text": [
            "How tall are you? 40\n",
            "❌ Oops! You're not tall enough for the ride 😔\n"
          ]
        }
      ],
      "source": [
        "# Minimum height required for the rollercoaster ride\n",
        "MINIMUM_HEIGHT: int = 50  # in inches or centimeters (you can specify unit)\n",
        "\n",
        "# Creating a function to check eligibility for the ride\n",
        "def rollercoaster_ride():\n",
        "    # Asking the user to enter their height\n",
        "    try:\n",
        "        height = float(input(\"How tall are you? \"))\n",
        "\n",
        "        # Check if height meets the minimum requirement\n",
        "        if height >= MINIMUM_HEIGHT:\n",
        "            print(\"🎢 You're tall enough for the ride 🤩 Enjoy!\")\n",
        "        else:\n",
        "            print(\"❌ Oops! You're not tall enough for the ride 😔\")\n",
        "\n",
        "    # In case of invalid (non-numeric) input\n",
        "    except ValueError:\n",
        "        print(\"❗ Please enter a valid number for your height.\")\n",
        "\n",
        "# Calling the function\n",
        "rollercoaster_ride()\n"
      ]
    }
  ]
}