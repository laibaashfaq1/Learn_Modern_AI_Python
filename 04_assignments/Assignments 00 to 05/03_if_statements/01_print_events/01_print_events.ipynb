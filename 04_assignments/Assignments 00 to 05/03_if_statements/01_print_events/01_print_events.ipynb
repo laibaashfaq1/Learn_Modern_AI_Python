{
  "nbformat": 4,
  "nbformat_minor": 0,
  "metadata": {
    "colab": {
      "provenance": []
    },
    "kernelspec": {
      "name": "python3",
      "display_name": "Python 3"
    },
    "language_info": {
      "name": "python"
    }
  },
  "cells": [
    {
      "cell_type": "code",
      "execution_count": 5,
      "metadata": {
        "id": "rI13vuK4ST7K",
        "colab": {
          "base_uri": "https://localhost:8080/"
        },
        "outputId": "c5ffa582-7854-424e-fda2-34b294ea9e7c"
      },
      "outputs": [
        {
          "output_type": "stream",
          "name": "stdout",
          "text": [
            "0\n",
            "2\n",
            "4\n",
            "6\n",
            "8\n",
            "10\n",
            "12\n",
            "14\n",
            "16\n",
            "18\n",
            "20\n",
            "22\n",
            "24\n",
            "26\n",
            "28\n",
            "30\n",
            "32\n",
            "34\n",
            "36\n",
            "38\n"
          ]
        }
      ],
      "source": [
        "# Function to print the first 20 even numbers\n",
        "def even_num():\n",
        "    # Loop through the range from 0 to 19 (20 iterations)\n",
        "    for i in range(20):\n",
        "        # Multiply the current index 'i' by 2 to get the even number\n",
        "        print(i * 2)  # Print the even number\n",
        "\n",
        "# Call the function to display the even numbers\n",
        "even_num()\n",
        "\n"
      ]
    }
  ]
}