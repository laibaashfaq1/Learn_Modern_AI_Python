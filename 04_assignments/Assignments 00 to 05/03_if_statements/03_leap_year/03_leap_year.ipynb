{
  "nbformat": 4,
  "nbformat_minor": 0,
  "metadata": {
    "colab": {
      "provenance": []
    },
    "kernelspec": {
      "name": "python3",
      "display_name": "Python 3"
    },
    "language_info": {
      "name": "python"
    }
  },
  "cells": [
    {
      "cell_type": "code",
      "execution_count": 11,
      "metadata": {
        "id": "rI13vuK4ST7K",
        "colab": {
          "base_uri": "https://localhost:8080/"
        },
        "outputId": "92478e9b-42d8-4e29-d02e-0c894f3ec119"
      },
      "outputs": [
        {
          "output_type": "stream",
          "name": "stdout",
          "text": [
            "Enter a year to check if it's a leap year: 2005\n",
            "❌ That's not a leap year.\n"
          ]
        }
      ],
      "source": [
        "# 📅 Leap Year Checker Program\n",
        "\n",
        "# creating function\n",
        "def leap_year():\n",
        "  # Ask the user to enter a year\n",
        "  year = int(input(\"Enter a year to check if it's a leap year: \"))\n",
        "\n",
        "  # 🌟 Check leap year conditions using Gregorian rules\n",
        "  # A year is a leap year if:\n",
        "  # 1. It is divisible by 4\n",
        "  # 2. But not divisible by 100, unless it's also divisible by 400\n",
        "\n",
        "  if (year % 4 == 0):\n",
        "     if (year % 100 == 0):\n",
        "         if (year % 400 == 0):\n",
        "             print(\"✅ That's a leap year!\")\n",
        "         else:\n",
        "            print(\"❌ That's not a leap year.\")\n",
        "     else:\n",
        "        print(\"✅ That's a leap year!\")\n",
        "  else:\n",
        "     print(\"❌ That's not a leap year.\")\n",
        "\n",
        "# calling function\n",
        "leap_year()\n"
      ]
    }
  ]
}