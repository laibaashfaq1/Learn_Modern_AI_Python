{
  "nbformat": 4,
  "nbformat_minor": 0,
  "metadata": {
    "colab": {
      "provenance": []
    },
    "kernelspec": {
      "name": "python3",
      "display_name": "Python 3"
    },
    "language_info": {
      "name": "python"
    }
  },
  "cells": [
    {
      "cell_type": "code",
      "execution_count": 13,
      "metadata": {
        "id": "rI13vuK4ST7K",
        "colab": {
          "base_uri": "https://localhost:8080/"
        },
        "outputId": "efd6b85e-2d34-4a6d-80ea-fc5bd17142dc"
      },
      "outputs": [
        {
          "output_type": "stream",
          "name": "stdout",
          "text": [
            "41 51 82 4 99 13 39 87 86 41 \n"
          ]
        }
      ],
      "source": [
        "# Import random module to generate random numbers\n",
        "import random\n",
        "\n",
        "# Defining constant variables\n",
        "N_NUMBERS: int = 10          # How many random numbers to generate\n",
        "MIN_VALUE: int = 0           # Minimum value of random numbers\n",
        "MAX_VALUE: int = 100         # Maximum value of random numbers\n",
        "\n",
        "# Creating a function to generate and print random numbers\n",
        "def random_number():\n",
        "    # This loop runs 10 times to generate 10 random numbers\n",
        "    for _ in range(N_NUMBERS):\n",
        "        # Generate a random number between MIN_VALUE and MAX_VALUE\n",
        "        number = random.randint(MIN_VALUE, MAX_VALUE)\n",
        "        # Print each number on the same line separated by a space\n",
        "        print(number, end=' ')\n",
        "    print()  # Move to a new line after printing all numbers\n",
        "\n",
        "# Calling the function\n",
        "random_number()\n"
      ]
    }
  ]
}