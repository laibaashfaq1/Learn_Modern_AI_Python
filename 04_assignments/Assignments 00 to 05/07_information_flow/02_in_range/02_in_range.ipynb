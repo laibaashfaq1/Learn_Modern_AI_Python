{
  "nbformat": 4,
  "nbformat_minor": 0,
  "metadata": {
    "colab": {
      "provenance": []
    },
    "kernelspec": {
      "name": "python3",
      "display_name": "Python 3"
    },
    "language_info": {
      "name": "python"
    }
  },
  "cells": [
    {
      "cell_type": "code",
      "source": [
        "def in_range(n, low, high):\n",
        "    \"\"\"Returns True if n is between low and high, inclusive.\"\"\"\n",
        "    return low <= n <= high\n",
        "\n",
        "# Test examples\n",
        "print(in_range(5, 9, 10))    # Output: False\n",
        "print(in_range(0, 1, 10))    # Output: False\n",
        "print(in_range(10, 1, 10))   # Output: True\n",
        "print(in_range(1, 1, 10))    # Output: True\n"
      ],
      "metadata": {
        "colab": {
          "base_uri": "https://localhost:8080/"
        },
        "id": "AuGd3AIZrU0I",
        "outputId": "c34a9162-08ec-439b-8350-ac8fb638907c"
      },
      "execution_count": 9,
      "outputs": [
        {
          "output_type": "stream",
          "name": "stdout",
          "text": [
            "False\n",
            "False\n",
            "True\n",
            "True\n"
          ]
        }
      ]
    }
  ]
}