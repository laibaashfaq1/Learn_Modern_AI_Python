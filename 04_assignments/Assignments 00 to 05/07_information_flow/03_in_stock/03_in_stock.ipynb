{
  "nbformat": 4,
  "nbformat_minor": 0,
  "metadata": {
    "colab": {
      "provenance": []
    },
    "kernelspec": {
      "name": "python3",
      "display_name": "Python 3"
    },
    "language_info": {
      "name": "python"
    }
  },
  "cells": [
    {
      "cell_type": "code",
      "source": [
        "def main ():\n",
        "  fruit:str=input(\"enter fruit name:\")\n",
        "  stock = number_in_stock(fruit)\n",
        "\n",
        "  if stock == 0:\n",
        "    print(\"This fruit ii not in stock\")\n",
        "  else:\n",
        "    print(\"This fruit is in stock.\")\n",
        "    print(stock)\n",
        "\n",
        "def number_in_stock(fruit):\n",
        "  if fruit == \"apple\":\n",
        "    return 2\n",
        "  if fruit == \"durain\":\n",
        "    return 4\n",
        "  if fruit == \"pear\":\n",
        "    return 1000\n",
        "  else:\n",
        "    return 0\n",
        "main()"
      ],
      "metadata": {
        "colab": {
          "base_uri": "https://localhost:8080/"
        },
        "id": "AuGd3AIZrU0I",
        "outputId": "848638ca-c434-4b14-8fa7-bf2c2121d9e7"
      },
      "execution_count": 11,
      "outputs": [
        {
          "output_type": "stream",
          "name": "stdout",
          "text": [
            "enter fruit name:apple\n",
            "This fruit is in stock.\n",
            "2\n"
          ]
        }
      ]
    }
  ]
}