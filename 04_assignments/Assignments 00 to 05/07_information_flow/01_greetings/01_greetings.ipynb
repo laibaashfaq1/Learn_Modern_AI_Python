{
  "nbformat": 4,
  "nbformat_minor": 0,
  "metadata": {
    "colab": {
      "provenance": []
    },
    "kernelspec": {
      "name": "python3",
      "display_name": "Python 3"
    },
    "language_info": {
      "name": "python"
    }
  },
  "cells": [
    {
      "cell_type": "code",
      "source": [
        "def greeting():\n",
        "  name : str = input(\"What is your name: \")\n",
        "  print(greet(name))\n",
        "\n",
        "def main(name):\n",
        "  return \"Greeting\"+ name + \"!\"\n",
        "\n",
        "greeting()"
      ],
      "metadata": {
        "colab": {
          "base_uri": "https://localhost:8080/"
        },
        "id": "AuGd3AIZrU0I",
        "outputId": "be6c0907-102b-4014-eaba-2450cc730ff5"
      },
      "execution_count": 7,
      "outputs": [
        {
          "output_type": "stream",
          "name": "stdout",
          "text": [
            "What is your name: Laiba\n",
            "Greetings Laiba!\n"
          ]
        }
      ]
    }
  ]
}