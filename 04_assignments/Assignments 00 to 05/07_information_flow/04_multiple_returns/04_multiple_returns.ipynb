{
  "nbformat": 4,
  "nbformat_minor": 0,
  "metadata": {
    "colab": {
      "provenance": []
    },
    "kernelspec": {
      "name": "python3",
      "display_name": "Python 3"
    },
    "language_info": {
      "name": "python"
    }
  },
  "cells": [
    {
      "cell_type": "code",
      "source": [
        "def get_user_data():\n",
        "  first_name : str = input(\"What is your first name?: \")\n",
        "  last_name : str = input(\"What is your last name?: \")\n",
        "  email : str = input(\"What is your email address?: \")\n",
        "  return first_name, last_name, email\n",
        "\n",
        "def data():\n",
        "  user = get_user_data()\n",
        "  print(\"Recieved the following information:\",user)\n",
        "data()"
      ],
      "metadata": {
        "colab": {
          "base_uri": "https://localhost:8080/"
        },
        "id": "AuGd3AIZrU0I",
        "outputId": "37d43d26-d891-42d7-885c-04847ff4f5f4"
      },
      "execution_count": 12,
      "outputs": [
        {
          "output_type": "stream",
          "name": "stdout",
          "text": [
            "What is your first name?: Laiba\n",
            "What is your last name?: Ashfaq\n",
            "What is your email address?: laibaashfaqahmed232@gmail.com\n",
            "Recieved the following information: ('Laiba', 'Ashfaq', 'laibaashfaqahmed232@gmail.com')\n"
          ]
        }
      ]
    }
  ]
}