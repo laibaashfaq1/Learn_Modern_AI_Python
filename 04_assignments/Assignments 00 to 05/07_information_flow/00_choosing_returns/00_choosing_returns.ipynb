{
  "nbformat": 4,
  "nbformat_minor": 0,
  "metadata": {
    "colab": {
      "provenance": []
    },
    "kernelspec": {
      "name": "python3",
      "display_name": "Python 3"
    },
    "language_info": {
      "name": "python"
    }
  },
  "cells": [
    {
      "cell_type": "code",
      "source": [
        "ADULT_AGE : int = 18 # U.S. age\n",
        "\n",
        "def check_adult(age: int):\n",
        "    if age >= ADULT_AGE:\n",
        "        return True\n",
        "    else:\n",
        "        return False\n",
        "\n",
        "def main():\n",
        "  age : str = int(input(\"How old the person age is: \"))\n",
        "  print(check_adult(age))\n",
        "\n",
        "main()"
      ],
      "metadata": {
        "colab": {
          "base_uri": "https://localhost:8080/"
        },
        "id": "p9woaV88QeO0",
        "outputId": "c674a24e-418c-44c6-e720-aceb1b3683ab"
      },
      "execution_count": 2,
      "outputs": [
        {
          "output_type": "stream",
          "name": "stdout",
          "text": [
            "How old the person age is: 20\n",
            "True\n"
          ]
        }
      ]
    }
  ]
}