{
  "nbformat": 4,
  "nbformat_minor": 0,
  "metadata": {
    "colab": {
      "provenance": []
    },
    "kernelspec": {
      "name": "python3",
      "display_name": "Python 3"
    },
    "language_info": {
      "name": "python"
    }
  },
  "cells": [
    {
      "cell_type": "code",
      "source": [
        "def subtract_seven(num):\n",
        "    \"\"\"Subtracts 7 from the given number.\"\"\"\n",
        "    return num - 7\n",
        "\n",
        "def main():\n",
        "    result = subtract_seven(10)  # You can use any number here\n",
        "    print(\"Result after subtracting 7:\", result)\n",
        "\n",
        "main()\n"
      ],
      "metadata": {
        "colab": {
          "base_uri": "https://localhost:8080/"
        },
        "id": "AuGd3AIZrU0I",
        "outputId": "f97f60df-f71e-4357-e95e-16ae2c3dabfa"
      },
      "execution_count": 16,
      "outputs": [
        {
          "output_type": "stream",
          "name": "stdout",
          "text": [
            "Result after subtracting 7: 3\n"
          ]
        }
      ]
    }
  ]
}