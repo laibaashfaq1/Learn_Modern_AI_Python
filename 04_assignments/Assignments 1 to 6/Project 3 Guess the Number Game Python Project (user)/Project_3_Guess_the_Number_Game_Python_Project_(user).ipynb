{
  "nbformat": 4,
  "nbformat_minor": 0,
  "metadata": {
    "colab": {
      "provenance": []
    },
    "kernelspec": {
      "name": "python3",
      "display_name": "Python 3"
    },
    "language_info": {
      "name": "python"
    }
  },
  "cells": [
    {
      "cell_type": "markdown",
      "source": [
        "# **Project 3 Guess the Number Game Python Project (user)**"
      ],
      "metadata": {
        "id": "ICD88OwIKfSP"
      }
    },
    {
      "cell_type": "code",
      "source": [
        "import random  # Importing the random module to generate a random number\n",
        "\n",
        "print(\"🎉 Welcome to the Guess the Number Game! 🎉\")\n",
        "print(\"The computer has selected a secret number between 1 and 10.\")\n",
        "print(\"Your task is to guess the number!\")\n",
        "\n",
        "# Generate a secret random number between 1 and 10\n",
        "secret_number = random.randint(1, 10)\n",
        "\n",
        "# Loop until the user guesses correctly\n",
        "while True:\n",
        "    try:\n",
        "        # Take user input and convert it to an integer\n",
        "        user_number = int(input(\"🔢 Enter your guess: \"))\n",
        "\n",
        "        # Check if the guess is correct\n",
        "        if user_number == secret_number:\n",
        "            print(\"🎯 Bingo! You guessed the correct number! 🎉\")\n",
        "            break  # Exit the loop when the correct number is guessed\n",
        "        elif user_number < secret_number:\n",
        "            print(\"📈 Try a bigger number!\")  # Hint if the guess is too low\n",
        "        elif user_number > secret_number:\n",
        "            print(\"📉 Try a smaller number!\")  # Hint if the guess is too high\n",
        "    except ValueError:\n",
        "        print(\"❌ Invalid input! Please enter a number between 1 and 10.\")  # Handle non-integer inputs\n"
      ],
      "metadata": {
        "colab": {
          "base_uri": "https://localhost:8080/"
        },
        "id": "7KoT3U-_L9OP",
        "outputId": "16af2842-fbe7-45b3-ae45-f9105551e169"
      },
      "execution_count": 5,
      "outputs": [
        {
          "output_type": "stream",
          "name": "stdout",
          "text": [
            "🎉 Welcome to the Guess the Number Game! 🎉\n",
            "The computer has selected a secret number between 1 and 10.\n",
            "Your task is to guess the number!\n",
            "🔢 Enter your guess: 10\n",
            "🎯 Bingo! You guessed the correct number! 🎉\n"
          ]
        }
      ]
    },
    {
      "cell_type": "code",
      "source": [],
      "metadata": {
        "id": "52KQdKpVMdDX"
      },
      "execution_count": null,
      "outputs": []
    }
  ]
}