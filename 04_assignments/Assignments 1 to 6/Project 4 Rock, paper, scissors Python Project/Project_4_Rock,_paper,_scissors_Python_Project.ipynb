{
  "nbformat": 4,
  "nbformat_minor": 0,
  "metadata": {
    "colab": {
      "provenance": []
    },
    "kernelspec": {
      "name": "python3",
      "display_name": "Python 3"
    },
    "language_info": {
      "name": "python"
    }
  },
  "cells": [
    {
      "cell_type": "code",
      "source": [
        "import random  # Importing the random module\n",
        "\n",
        "print(\"Lets Play Rock, Paper and Scissor Game!\")\n",
        "def play():\n",
        "    \"\"\"Function to play Rock-Paper-Scissors game\"\"\"\n",
        "\n",
        "    while True:  # Keep playing until the user chooses to stop\n",
        "        # Ask user for input\n",
        "        user = input(\"\\n'r' for Rock, 'p' for Paper, 's' for Scissors: \")\n",
        "\n",
        "        # Validate user input\n",
        "        if user not in ['r', 'p', 's']:\n",
        "            print(\"❌ Invalid choice! Please enter 'r', 'p', or 's'.\")\n",
        "            continue  # Ask again if input is invalid\n",
        "\n",
        "        # Computer randomly selects rock, paper, or scissors\n",
        "        computer = random.choice(['r', 'p', 's'])\n",
        "\n",
        "        print(f\"🖥️ Computer chose: {computer.upper()}\")  # Show computer's choice\n",
        "\n",
        "        # If both have the same choice, it's a tie\n",
        "        if user == computer:\n",
        "            print(\"It's a tie! 🤝\")\n",
        "        elif is_win(user, computer):\n",
        "            print(\"🎉 You Won! 🎉\")\n",
        "        else:\n",
        "            print(\"😔 You Lost! Try again.\")\n",
        "\n",
        "        # Ask if the user wants to play again\n",
        "        play_again = input(\"\\nDo you want to play again? (yes/no): \").strip().lower()\n",
        "        if play_again != \"yes\":\n",
        "            print(\"Thanks for playing! 👋\")\n",
        "            break  # Exit the loop if the user doesn't want to play again\n",
        "\n",
        "def is_win(player, opponent):\n",
        "    \"\"\"Function to check if the player wins based on game rules\"\"\"\n",
        "\n",
        "    # Winning conditions: Rock beats Scissors, Scissors beat Paper, Paper beats Rock\n",
        "    return (player == 'r' and opponent == 's') or \\\n",
        "           (player == 's' and opponent == 'p') or \\\n",
        "           (player == 'p' and opponent == 'r')\n",
        "\n",
        "# Start the game\n",
        "play()\n",
        "\n"
      ],
      "metadata": {
        "colab": {
          "base_uri": "https://localhost:8080/"
        },
        "id": "oVkpIG0UQvHj",
        "outputId": "186fb065-d550-4082-c00c-82827cab2006"
      },
      "execution_count": 6,
      "outputs": [
        {
          "output_type": "stream",
          "name": "stdout",
          "text": [
            "Lets Play Rock, Paper and Scissor Game!\n",
            "\n",
            "'r' for Rock, 'p' for Paper, 's' for Scissors: p\n",
            "🖥️ Computer chose: P\n",
            "It's a tie! 🤝\n",
            "\n",
            "Do you want to play again? (yes/no): yes\n",
            "\n",
            "'r' for Rock, 'p' for Paper, 's' for Scissors: r\n",
            "🖥️ Computer chose: R\n",
            "It's a tie! 🤝\n",
            "\n",
            "Do you want to play again? (yes/no): yes\n",
            "\n",
            "'r' for Rock, 'p' for Paper, 's' for Scissors: p\n",
            "🖥️ Computer chose: S\n",
            "😔 You Lost! Try again.\n",
            "\n",
            "Do you want to play again? (yes/no): now\n",
            "Thanks for playing! 👋\n"
          ]
        }
      ]
    },
    {
      "cell_type": "code",
      "source": [],
      "metadata": {
        "id": "c5cWl4eDQS6U"
      },
      "execution_count": null,
      "outputs": []
    }
  ]
}