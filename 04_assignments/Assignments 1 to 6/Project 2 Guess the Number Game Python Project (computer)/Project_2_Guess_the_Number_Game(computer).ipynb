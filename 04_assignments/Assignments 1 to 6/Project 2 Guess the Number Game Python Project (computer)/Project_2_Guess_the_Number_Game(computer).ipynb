{
  "nbformat": 4,
  "nbformat_minor": 0,
  "metadata": {
    "colab": {
      "provenance": []
    },
    "kernelspec": {
      "name": "python3",
      "display_name": "Python 3"
    },
    "language_info": {
      "name": "python"
    }
  },
  "cells": [
    {
      "cell_type": "code",
      "execution_count": null,
      "metadata": {
        "id": "lmRGP4t-s7vF"
      },
      "outputs": [],
      "source": [
        "# we used for loop when we don't know how many times our condition run\n",
        "# we used while loop when we know how many time our condition run\n",
        "\n",
        "# Randiant Function\n",
        "# If the computer always picks the same number, the game would be boring.\n",
        "# randint() ensures the computer chooses a random number each time."
      ]
    },
    {
      "cell_type": "markdown",
      "source": [
        "# **Project 2: Guess the Number Game(computer)**"
      ],
      "metadata": {
        "id": "WyuMbsh0636C"
      }
    },
    {
      "cell_type": "code",
      "source": [
        "import random  # Importing the random module\n",
        "\n",
        "print(\"Guess the number between 1 and 10\")\n",
        "user_input = int(input(\"Write your secret number \"))\n",
        "\n",
        "# Generate a random number\n",
        "computer_guess = random.randint(1, 10)\n",
        "print(f\"Computer's first guess is {computer_guess}\")\n",
        "\n",
        "# Start a loop to get user feedback\n",
        "while True:\n",
        "    feedback = input(\"Is this guess correct? (yes / too low / too high): \").strip().lower()\n",
        "\n",
        "    if feedback == \"yes\":\n",
        "        print(\"The computer guessed the correct number!\")\n",
        "        break  # Exit loop if guess is correct\n",
        "    elif feedback == \"too low\":\n",
        "        print(\"The guessed number is too low. Trying again...\")\n",
        "    elif feedback == \"too high\":\n",
        "        print(\"The guessed number is too high. Trying again...\")\n",
        "    else:\n",
        "        print(\"Invalid input! Please respond with 'yes', 'too low', or 'too high'.\")\n",
        "        continue  # Ask for feedback again if input is invalid\n",
        "\n",
        "    # Generate a new random guess\n",
        "    computer_guess = random.randint(1, 10)\n",
        "    print(f\"Computer's next guess is {computer_guess}\")\n"
      ],
      "metadata": {
        "colab": {
          "base_uri": "https://localhost:8080/"
        },
        "id": "djLRSWIx6_Kj",
        "outputId": "9bdeca19-59c4-48f3-85ea-14e159f4152c"
      },
      "execution_count": 11,
      "outputs": [
        {
          "output_type": "stream",
          "name": "stdout",
          "text": [
            "Guess the number between 1 and 10\n",
            "Write your secret number 6\n",
            "Computer's first guess is 5\n",
            "Is this guess correct? (yes / too low / too high): too low\n",
            "The guessed number is too low. Trying again...\n",
            "Computer's next guess is 9\n",
            "Is this guess correct? (yes / too low / too high): too high\n",
            "The guessed number is too high. Trying again...\n",
            "Computer's next guess is 2\n",
            "Is this guess correct? (yes / too low / too high): too low\n",
            "The guessed number is too low. Trying again...\n",
            "Computer's next guess is 6\n",
            "Is this guess correct? (yes / too low / too high): yes\n",
            "The computer guessed the correct number!\n"
          ]
        }
      ]
    }
  ]
}