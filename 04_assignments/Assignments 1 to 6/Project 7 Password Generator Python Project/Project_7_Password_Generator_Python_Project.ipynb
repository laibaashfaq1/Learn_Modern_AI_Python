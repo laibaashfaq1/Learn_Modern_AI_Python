{
  "nbformat": 4,
  "nbformat_minor": 0,
  "metadata": {
    "colab": {
      "provenance": []
    },
    "kernelspec": {
      "name": "python3",
      "display_name": "Python 3"
    },
    "language_info": {
      "name": "python"
    }
  },
  "cells": [
    {
      "cell_type": "code",
      "source": [
        "import random  # To randomly select characters\n",
        "import string  # Provides string constants like ascii_letters and digits (a-zA-Z0-9)\n",
        "\n",
        "# ===============================\n",
        "# Function to generate a password\n",
        "# ===============================\n",
        "def generate_password(use_digits, length, use_special):\n",
        "    characters = string.ascii_letters  # Includes both uppercase and lowercase letters\n",
        "\n",
        "    if use_digits:\n",
        "        characters += string.digits  # Add numbers (0-9)\n",
        "\n",
        "    if use_special:\n",
        "        characters += \"!@#$%^&*_+<>\"  # Add special characters\n",
        "\n",
        "    # Randomly choose characters to form the password\n",
        "    password = ''.join(random.choice(characters) for _ in range(length))\n",
        "    return password  # IMPORTANT: return the generated password\n",
        "\n",
        "\n",
        "# ===============================\n",
        "# Main Program Starts Here\n",
        "# ===============================\n",
        "print(\"🔐 Welcome to PassGen\")\n",
        "print(\"----------------------\")\n",
        "\n",
        "# Loop until a valid password length is entered\n",
        "while True:\n",
        "    try:\n",
        "        # Ask user to enter password length\n",
        "        length = int(input(\"Enter your password length (min 8): \"))\n",
        "\n",
        "        # Check if the length is valid\n",
        "        if length < 8:\n",
        "            print(\"❌ Password must be at least 8 characters. Please try again.\\n\")\n",
        "            continue  # Ask again if invalid\n",
        "        else:\n",
        "            # Ask user if they want to include numbers and special characters\n",
        "            use_digits = input(\"Do you want to include numbers? (y/n): \").lower() == \"y\"\n",
        "            use_special = input(\"Do you want to include special characters? (y/n): \").lower() == \"y\"\n",
        "\n",
        "            # Call the function to generate the password\n",
        "            password = generate_password(use_digits, length, use_special)\n",
        "\n",
        "            # Display the generated password\n",
        "            print(f\"\\n✅ Your generated password is: {password}\")\n",
        "            break  # Exit the loop once password is successfully created\n",
        "\n",
        "    except ValueError:\n",
        "        print(\"❌ Invalid input. Please enter a number for the length.\\n\")  # Handle non-numeric input\n",
        "\n"
      ],
      "metadata": {
        "colab": {
          "base_uri": "https://localhost:8080/"
        },
        "id": "qAZagOm_n017",
        "outputId": "07243ccc-a2cd-48da-bffd-1e66524890e8"
      },
      "execution_count": 10,
      "outputs": [
        {
          "output_type": "stream",
          "name": "stdout",
          "text": [
            "🔐 Welcome to PassGen\n",
            "----------------------\n",
            "Enter your password length (min 8): 6\n",
            "❌ Password must be at least 8 characters. Please try again.\n",
            "\n",
            "Enter your password length (min 8): 9\n",
            "Do you want to include numbers? (y/n): y\n",
            "Do you want to include special characters? (y/n): y\n",
            "\n",
            "✅ Your generated password is: Lh$1O9xJn\n"
          ]
        }
      ]
    }
  ]
}