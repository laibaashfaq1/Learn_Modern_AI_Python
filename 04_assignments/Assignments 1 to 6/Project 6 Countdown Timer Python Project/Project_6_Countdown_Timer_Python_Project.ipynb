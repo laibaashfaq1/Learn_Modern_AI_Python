{
  "nbformat": 4,
  "nbformat_minor": 0,
  "metadata": {
    "colab": {
      "provenance": []
    },
    "kernelspec": {
      "name": "python3",
      "display_name": "Python 3"
    },
    "language_info": {
      "name": "python"
    }
  },
  "cells": [
    {
      "cell_type": "code",
      "source": [
        "import time  # Importing time module to use sleep for countdown effect\n",
        "\n",
        "# This function asks the user to enter a number of seconds for the countdown,\n",
        "# then performs a countdown and prints a message when the time is up.\n",
        "def countdown_timer():\n",
        "    seconds = 0  # Initial value of countdown in seconds\n",
        "\n",
        "    # Loop to get valid input from user\n",
        "    while True:\n",
        "        try:\n",
        "            user_input = int(input(\"Enter the countdown time in seconds: \"))\n",
        "            if user_input < 0:\n",
        "                print(\"Please enter a positive number\")  # Handle negative input\n",
        "                continue\n",
        "            seconds += user_input  # Add valid input to seconds\n",
        "            break  # Exit loop if input is valid\n",
        "        except ValueError:\n",
        "            print(\"Invalid input! Please enter a number.\")  # Handle non-integer input\n",
        "            continue\n",
        "\n",
        "    # Countdown loop\n",
        "    for i in range(seconds, 0, -1):\n",
        "        print(f'Time Left: {i} seconds')  # Show remaining time\n",
        "        time.sleep(1)  # Wait for 1 second before next count\n",
        "\n",
        "    # Final message after countdown ends\n",
        "    print(\"Time's up!\")\n",
        "\n",
        "# Call the countdown function\n",
        "countdown_timer()\n",
        "\n"
      ],
      "metadata": {
        "colab": {
          "base_uri": "https://localhost:8080/"
        },
        "id": "qAZagOm_n017",
        "outputId": "f9598a10-e953-48d4-c112-739fc60e768a"
      },
      "execution_count": 2,
      "outputs": [
        {
          "output_type": "stream",
          "name": "stdout",
          "text": [
            "Enter the countdown time in seconds: 8\n",
            "Time Left: 8 seconds\n",
            "Time Left: 7 seconds\n",
            "Time Left: 6 seconds\n",
            "Time Left: 5 seconds\n",
            "Time Left: 4 seconds\n",
            "Time Left: 3 seconds\n",
            "Time Left: 2 seconds\n",
            "Time Left: 1 seconds\n",
            "Time's up!\n"
          ]
        }
      ]
    }
  ]
}