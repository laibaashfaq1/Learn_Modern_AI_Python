{
  "nbformat": 4,
  "nbformat_minor": 0,
  "metadata": {
    "colab": {
      "provenance": []
    },
    "kernelspec": {
      "name": "python3",
      "display_name": "Python 3"
    },
    "language_info": {
      "name": "python"
    }
  },
  "cells": [
    {
      "cell_type": "markdown",
      "source": [
        "**Project 1 : Madlib Python**"
      ],
      "metadata": {
        "id": "kxtU72iakOYK"
      }
    },
    {
      "cell_type": "code",
      "source": [
        "# A Mad Libs Python project is a fun, beginner-friendly program that generates a short story\n",
        "# by asking the user for different types of words (e.g., nouns, verbs, adjectives)\n",
        "# and then inserting them into a pre-written story template."
      ],
      "metadata": {
        "id": "SeEruWKFiusX"
      },
      "execution_count": null,
      "outputs": []
    },
    {
      "cell_type": "code",
      "execution_count": null,
      "metadata": {
        "id": "tlv9bdxVdsLv",
        "colab": {
          "base_uri": "https://localhost:8080/"
        },
        "outputId": "494b0b7f-3536-4e50-89a9-1814abdd8398"
      },
      "outputs": [
        {
          "output_type": "stream",
          "name": "stdout",
          "text": [
            "Enter Your Name (e.g., Laiba, Sara): Laiba\n",
            "Enter a Random Year in the Future (e.g., 2017, 2022): 2010\n",
            "Name a Futuristic Invention (e.g., Flying Car, AI Robot): Flying Bike\n",
            "Enter an Emotion (e.g., excited, scared): happy\n",
            "Name a Historical Person (e.g., Einstein, Newton): Albert\n",
            "Enter a Place (e.g., Mars, Ancient Library): Jupiter\n",
            "\n",
            "    In the year 2010, a brilliant scientist named Laiba discovered a secret portal hidden inside Jupiter.\n",
            "    Curious and happy, Laiba stepped through it and found themselves in a world where Flying Bike\n",
            "    was the most powerful creation ever made.\n",
            "\n",
            "    But something strange happened... Laiba met Albert, who had somehow traveled to the future!\n",
            "    Together, they uncovered a shocking secret that changed history forever!\n",
            "\n",
            "    What was it? Well, only Laiba knows the truth! 🚀✨\n",
            "    \n"
          ]
        }
      ],
      "source": [
        "# Unique Mad Libs - Time Travel Adventure\n",
        "\n",
        "# Defining the Mad Libs function\n",
        "def Madlibs():\n",
        "    # Asking for user input\n",
        "    name = input(\"Enter Your Name (e.g., Laiba, Sara): \")\n",
        "    year = int(input(\"Enter a Random Year in the Future (e.g., 2017, 2022): \"))  # Asking for a number\n",
        "    invention = input(\"Name a Futuristic Invention (e.g., Flying Car, AI Robot): \")\n",
        "    emotion = input(\"Enter an Emotion (e.g., excited, scared): \")\n",
        "    historical_person = input(\"Name a Historical Person (e.g., Einstein, Newton): \")\n",
        "    place = input(\"Enter a Place (e.g., Mars, Ancient Library): \")\n",
        "\n",
        "    # Creating the story (properly formatted)\n",
        "    story = f\"\"\"\n",
        "    In the year {year}, a brilliant scientist named {name} discovered a secret portal hidden inside {place}.\n",
        "    Curious and {emotion}, {name} stepped through it and found themselves in a world where {invention}\n",
        "    was the most powerful creation ever made.\n",
        "\n",
        "    But something strange happened... {name} met {historical_person}, who had somehow traveled to the future!\n",
        "    Together, they uncovered a shocking secret that changed history forever!\n",
        "\n",
        "    What was it? Well, only {name} knows the truth! 🚀✨\n",
        "    \"\"\"\n",
        "\n",
        "    # Displaying the final Mad Libs story\n",
        "    print(\"\\nHere is your unique Mad Libs story:\\n\")\n",
        "    print(story)\n",
        "\n",
        "# Calling the function to run the program\n",
        "Madlibs()\n",
        "\n",
        "\n"
      ]
    },
    {
      "cell_type": "code",
      "source": [],
      "metadata": {
        "id": "EJ2F9154iKV_"
      },
      "execution_count": null,
      "outputs": []
    }
  ]
}