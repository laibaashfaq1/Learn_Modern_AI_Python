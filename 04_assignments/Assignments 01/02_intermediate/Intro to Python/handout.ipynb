{
  "nbformat": 4,
  "nbformat_minor": 0,
  "metadata": {
    "colab": {
      "provenance": []
    },
    "kernelspec": {
      "name": "python3",
      "display_name": "Python 3"
    },
    "language_info": {
      "name": "python"
    }
  },
  "cells": [
    {
      "cell_type": "markdown",
      "source": [
        "# **Milestone #1: Mars Weight**\n",
        "A few years ago, NASA made history with the first controlled flight on another planet. Its latest Mars Rover, Perseverance, has onboard a 50cm high helicopter called Ingenuity. Ingenuity made its third flight, during which it flew faster and further than it had on any of its test flights on Earth. Interestingly, Ingenuity uses Python for some of its flight modeling software!\n",
        "\n",
        "Ingenuity on the surface of Mars (source: NASA)\n",
        "\n",
        "When programming Ingenuity, one of the things that NASA engineers need to account for is the fact that due to the weaker gravity on Mars, an Earthling's weight on Mars is 37.8% of their weight on Earth. Write a Python program that prompts an Earthling to enter their weight on Earth and prints their calculated weight on Mars.\n",
        "\n",
        "The output should be rounded to two decimal places when necessary. Python has a round function which can help you with this. You pass in the value to be rounded and the number of decimal places to use. In the example below, the number 3.1415926 is rounded to 2 decimal places which is 3.14."
      ],
      "metadata": {
        "id": "IrH3uqUwkCsV"
      }
    },
    {
      "cell_type": "code",
      "execution_count": 9,
      "metadata": {
        "id": "uE_cPzEZUnZt",
        "colab": {
          "base_uri": "https://localhost:8080/"
        },
        "outputId": "ce970fed-9a11-4808-e4dd-9684ec46f7ad"
      },
      "outputs": [
        {
          "output_type": "stream",
          "name": "stdout",
          "text": [
            "Enter a weight on Earth: 3.14\n",
            "The equivalent weight on Mars: 1.19\n"
          ]
        }
      ],
      "source": [
        "# Milestone #1: Mars Weight\n",
        "# Prompt the user to enter their weight on Earth\n",
        "earth_weight = float(input(\"Enter a weight on Earth: \"))\n",
        "\n",
        "# Calculate the weight on Mars (37.8% of the Earth's weight)\n",
        "mars_weight = earth_weight * 0.378\n",
        "\n",
        "# Round the result to two decimal places\n",
        "mars_weight_rounded = round(mars_weight, 2)\n",
        "\n",
        "# Output the result\n",
        "print(f\"The equivalent weight on Mars: {mars_weight_rounded}\")\n"
      ]
    },
    {
      "cell_type": "markdown",
      "source": [
        "# **Milestone #2: Adding in All Planets**\n",
        "\n",
        "Mars is not the only planet in our solar system with its own unique gravity. In fact, each planet has a different gravitational constant, which affects how much an object would weigh on that planet. Below is a list of the constants for each planet compared to Earth's gravity:\n",
        "\n",
        "Mercury: 37.6%\n",
        "\n",
        "Venus: 88.9%\n",
        "\n",
        "Mars: 37.8%\n",
        "\n",
        "Jupiter: 236.0%\n",
        "\n",
        "Saturn: 108.1%\n",
        "\n",
        "Uranus: 81.5%\n",
        "\n",
        "Neptune: 114.0%\n",
        "\n",
        "Write a Python program that prompts an Earthling to enter their weight on Earth and then to enter the name of a planet in our solar system. The program should print the equivalent weight on that planet rounded to 2 decimal places if necessary.\n",
        "\n",
        "You can assume that the user will always type in a planet with the first letter capitalized and you do not need to worry about the case where they type in something other than one of the above planets."
      ],
      "metadata": {
        "id": "A3FhB_CIlLON"
      }
    },
    {
      "cell_type": "code",
      "source": [
        "# Dictionary for planets and their gravity constants relative to Earth's gravity\n",
        "planet_gravity = {\n",
        "    \"Mercury\": 0.376,\n",
        "    \"Venus\": 0.889,\n",
        "    \"Mars\": 0.378,\n",
        "    \"Jupiter\": 2.36,\n",
        "    \"Saturn\": 1.081,\n",
        "    \"Uranus\": 0.815,\n",
        "    \"Neptune\": 1.14\n",
        "}\n",
        "\n",
        "# Prompt the user to input their weight on Earth\n",
        "earth_weight = float(input(\"Enter your weight on Earth: \"))\n",
        "\n",
        "# Provide a list of valid planets for user input\n",
        "valid_planets = \", \".join(planet_gravity.keys())\n",
        "planet = input(f\"Enter a planet ({valid_planets}): \").capitalize()  # Capitalize to match the dictionary\n",
        "\n",
        "# Check if the entered planet (case insensitive) is in the dictionary\n",
        "if planet.lower() in [p.lower() for p in planet_gravity.keys()]:\n",
        "    # Find the correct planet name case-sensitively\n",
        "    planet = next(p for p in planet_gravity if p.lower() == planet.lower())\n",
        "\n",
        "    # Calculate the equivalent weight on the selected planet\n",
        "    planet_weight = earth_weight * planet_gravity[planet]\n",
        "\n",
        "    # Round the result to two decimal places\n",
        "    planet_weight_rounded = round(planet_weight, 2)\n",
        "\n",
        "    # Print the calculated weight on the selected planet\n",
        "    print(f\"The equivalent weight on {planet}: {planet_weight_rounded}\")\n",
        "else:\n",
        "    # If the entered planet is invalid, notify the user\n",
        "    print(\"Invalid planet name. Please enter a valid planet.\")\n"
      ],
      "metadata": {
        "colab": {
          "base_uri": "https://localhost:8080/"
        },
        "id": "WV_DxuS-lbEZ",
        "outputId": "66917056-78c0-4c3e-9e8a-0830117cbc66"
      },
      "execution_count": 13,
      "outputs": [
        {
          "output_type": "stream",
          "name": "stdout",
          "text": [
            "Enter your weight on Earth: 46\n",
            "Enter a planet (Mercury, Venus, Mars, Jupiter, Saturn, Uranus, Neptune): mars\n",
            "The equivalent weight on Mars: 17.39\n"
          ]
        }
      ]
    }
  ]
}