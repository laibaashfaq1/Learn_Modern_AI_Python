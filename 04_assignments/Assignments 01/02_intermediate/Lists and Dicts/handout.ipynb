{
  "nbformat": 4,
  "nbformat_minor": 0,
  "metadata": {
    "colab": {
      "provenance": []
    },
    "kernelspec": {
      "name": "python3",
      "display_name": "Python 3"
    },
    "language_info": {
      "name": "python"
    }
  },
  "cells": [
    {
      "cell_type": "markdown",
      "source": [
        "# **Problem #1: List Practice**\n",
        "Now practice writing code with lists! Implement the functionality described in the comments below.\n",
        "\n",
        "def main(): # Create a list called fruit_list that contains the following fruits: # 'apple', 'banana', 'orange', 'grape', 'pineapple'."
      ],
      "metadata": {
        "id": "IrH3uqUwkCsV"
      }
    },
    {
      "cell_type": "code",
      "execution_count": 3,
      "metadata": {
        "id": "uE_cPzEZUnZt",
        "colab": {
          "base_uri": "https://localhost:8080/"
        },
        "outputId": "e8fd91c1-e78b-4306-8942-4e6133b4252e"
      },
      "outputs": [
        {
          "output_type": "stream",
          "name": "stdout",
          "text": [
            "Length of the list: 5\n",
            "Updated list: ['apple', 'banana', 'orange', 'grape', 'pineapple', 'mango']\n"
          ]
        }
      ],
      "source": [
        "def main():\n",
        "    # Create a list called `fruit_list`\n",
        "    fruit_list = ['apple', 'banana', 'orange', 'grape', 'pineapple']\n",
        "\n",
        "    # Print the length of the list\n",
        "    print(\"Length of the list:\", len(fruit_list))\n",
        "\n",
        "    # Add 'mango' at the end of the list\n",
        "    fruit_list.append('mango')\n",
        "\n",
        "    # Print the updated list\n",
        "    print(\"Updated list:\", fruit_list)\n",
        "\n",
        "# Calling the function to run the code\n",
        "main()"
      ]
    },
    {
      "cell_type": "markdown",
      "source": [
        "**Problem #2: Index Game**\n",
        "As a warmup, read this code and play the game a few times. Use this mental model of the list:\n",
        "\n",
        "**Objective:**\n",
        "Create a Python program that helps you practice accessing and manipulating elements in a list. This exercise will help you get comfortable with indexing, slicing, and modifying list elements.\n",
        "\n",
        "**Instructions:**\n",
        "**Initialize a List:**\n",
        "Create a list with at least 5 different elements. They can be numbers, strings, or a mix of both.\n",
        "\n",
        "**Accessing Elements:**\n",
        "Write a function that:\n",
        "\n",
        "⨳ Accepts a list and an index as inputs.\n",
        "⨳ Returns the element at the specified index.\n",
        "⨳ If the index is out of range, return an appropriate message.\n",
        "**Modifying Elements:**\n",
        "Write a function that:\n",
        "\n",
        "⨳ Accepts a list, an index, and a new value as inputs.\n",
        "⨳ Replaces the element at the specified index with the new value.\n",
        "⨳ If the index is out of range, return an appropriate message.\n",
        "**Slicing the List:**\n",
        "Write a function that:\n",
        "\n",
        "⨳ Accepts a list, a start index, and an end index as inputs.\n",
        "⨳ Returns a new list containing the elements from the start index up to (but not including) the end index.\n",
        "⨳ Handles cases where the indices are out of range.\n",
        "**Game Interaction:**\n",
        "Create a simple text-based game that:\n",
        "\n",
        "⨳ Prompts the user to select an operation (access, modify, slice).\n",
        "⨳ Asks for the necessary inputs (index, new value, etc.).\n",
        "⨳ Displays the result and the updated list."
      ],
      "metadata": {
        "id": "A3FhB_CIlLON"
      }
    },
    {
      "cell_type": "code",
      "source": [
        "# Function to access an element at a specific index\n",
        "def access_element(my_list, index):\n",
        "\n",
        "    try:\n",
        "        # Try to return the element at the given index\n",
        "        return my_list[index]\n",
        "    except IndexError:\n",
        "        # If index is invalid, show error message\n",
        "        return \"Index out of range!\"\n",
        "\n",
        "# Function to modify (change) an element at a specific index\n",
        "def modify_element(my_list, index, new_value):\n",
        "    try:\n",
        "        # Replace the value at the given index\n",
        "        my_list[index] = new_value\n",
        "        return my_list\n",
        "    except IndexError:\n",
        "        # If index is invalid, show error message\n",
        "        return \"Index out of range!\"\n",
        "\n",
        "# Function to slice (cut a part of) the list\n",
        "def slice_list(my_list, start, end):\n",
        "    # Return the sliced list from start to end index\n",
        "    return my_list[start:end]\n",
        "\n",
        "# Main function for the text-based game\n",
        "def game():\n",
        "    # Create a starting list\n",
        "    my_list = ['red', 'blue', 'green', 'yellow', 'purple']\n",
        "    print(\"Your list:\", my_list)\n",
        "\n",
        "    while True:\n",
        "        # Display menu options\n",
        "        print(\"\\nChoose an operation:\")\n",
        "        print(\"1. Access an element\")\n",
        "        print(\"2. Modify an element\")\n",
        "        print(\"3. Slice the list\")\n",
        "        print(\"4. Exit\")\n",
        "\n",
        "        # Take user input\n",
        "        choice = input(\"Enter your choice (1-4): \")\n",
        "\n",
        "        if choice == '1':\n",
        "            # Access an element\n",
        "            index = int(input(\"Enter index to access: \"))\n",
        "            print(\"Element at index\", index, \":\", access_element(my_list, index))\n",
        "\n",
        "        elif choice == '2':\n",
        "            # Modify an element\n",
        "            index = int(input(\"Enter index to modify: \"))\n",
        "            new_value = input(\"Enter new value: \")\n",
        "            result = modify_element(my_list, index, new_value)\n",
        "            print(\"Updated list:\", result)\n",
        "\n",
        "        elif choice == '3':\n",
        "            # Slice the list\n",
        "            start = int(input(\"Enter start index: \"))\n",
        "            end = int(input(\"Enter end index: \"))\n",
        "            print(\"Sliced list:\", slice_list(my_list, start, end))\n",
        "\n",
        "        elif choice == '4':\n",
        "            # Exit the game\n",
        "            print(\"Goodbye!\")\n",
        "            break\n",
        "\n",
        "        else:\n",
        "            # Handle invalid input\n",
        "            print(\"Invalid choice! Try again.\")\n",
        "\n",
        "# Running the game\n",
        "game()\n"
      ],
      "metadata": {
        "colab": {
          "base_uri": "https://localhost:8080/"
        },
        "id": "wTtN-DOre_xd",
        "outputId": "eb5aee1d-fd48-44e4-ffe5-465430ebd35e"
      },
      "execution_count": 2,
      "outputs": [
        {
          "output_type": "stream",
          "name": "stdout",
          "text": [
            "Your list: ['red', 'blue', 'green', 'yellow', 'purple']\n",
            "\n",
            "Choose an operation:\n",
            "1. Access an element\n",
            "2. Modify an element\n",
            "3. Slice the list\n",
            "4. Exit\n",
            "Enter your choice (1-4): 2\n",
            "Enter index to modify: 4\n",
            "Enter new value: f\n",
            "Updated list: ['red', 'blue', 'green', 'yellow', 'f']\n",
            "\n",
            "Choose an operation:\n",
            "1. Access an element\n",
            "2. Modify an element\n",
            "3. Slice the list\n",
            "4. Exit\n",
            "Enter your choice (1-4): 4\n",
            "Goodbye!\n"
          ]
        }
      ]
    }
  ]
}