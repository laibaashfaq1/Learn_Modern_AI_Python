{
  "nbformat": 4,
  "nbformat_minor": 0,
  "metadata": {
    "colab": {
      "provenance": []
    },
    "kernelspec": {
      "name": "python3",
      "display_name": "Python 3"
    },
    "language_info": {
      "name": "python"
    }
  },
  "cells": [
    {
      "cell_type": "code",
      "execution_count": 10,
      "metadata": {
        "id": "uE_cPzEZUnZt",
        "colab": {
          "base_uri": "https://localhost:8080/"
        },
        "outputId": "39a34815-3b00-4956-88b9-015730a27ca9"
      },
      "outputs": [
        {
          "output_type": "stream",
          "name": "stdout",
          "text": [
            "88 8 15 92 38 48 2 72 93 71 "
          ]
        }
      ],
      "source": [
        "import random\n",
        "\n",
        "# Constants for the number of random numbers and the range of possible values\n",
        "N_NUMBERS: int = 10  # Number of random numbers to generate and print\n",
        "MIN_VALUE: int = 1    # Minimum value for the random number\n",
        "MAX_VALUE: int = 100  # Maximum value for the random number\n",
        "\n",
        "def main():\n",
        "    # Loop to generate and print N_NUMBERS random numbers in the specified range\n",
        "    for _ in range(N_NUMBERS):\n",
        "        # Generate a random number between MIN_VALUE and MAX_VALUE and print it\n",
        "        print(random.randint(MIN_VALUE, MAX_VALUE), end=\" \")  # Print numbers on the same line with space\n",
        "\n",
        "# Call the main function to start the program\n",
        "main()\n"
      ]
    }
  ]
}