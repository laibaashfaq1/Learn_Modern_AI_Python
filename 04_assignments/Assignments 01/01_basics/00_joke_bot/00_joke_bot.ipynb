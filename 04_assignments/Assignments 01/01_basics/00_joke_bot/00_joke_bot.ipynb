{
  "nbformat": 4,
  "nbformat_minor": 0,
  "metadata": {
    "colab": {
      "provenance": []
    },
    "kernelspec": {
      "name": "python3",
      "display_name": "Python 3"
    },
    "language_info": {
      "name": "python"
    }
  },
  "cells": [
    {
      "cell_type": "code",
      "execution_count": 6,
      "metadata": {
        "id": "uE_cPzEZUnZt",
        "colab": {
          "base_uri": "https://localhost:8080/"
        },
        "outputId": "95257e5a-dee6-4c17-8bc4-c92f736d85d5"
      },
      "outputs": [
        {
          "output_type": "stream",
          "name": "stdout",
          "text": [
            "What do you want? joke\n",
            "Here is a joke for you! Panaversity GPT - Sophia is heading out to the grocery store. A programmer tells her: get a liter of milk, and if they have eggs, get 12. Sophia returns with 13 liters of milk. The programmer asks why and Sophia replies: 'because they had eggs'\n"
          ]
        }
      ],
      "source": [
        "# Define constant strings for prompt, joke, and sorry message\n",
        "PROMPT = \"What do you want? \"  # Ask user what they want\n",
        "JOKE = (\"Here is a joke for you! Panaversity GPT - Sophia is heading out to the grocery store. \"\n",
        "        \"A programmer tells her: get a liter of milk, and if they have eggs, get 12. \"\n",
        "        \"Sophia returns with 13 liters of milk. The programmer asks why and Sophia replies: \"\n",
        "        \"'because they had eggs'\")\n",
        "SORRY = \"Sorry I only tell jokes\"  # Response for any input other than \"Joke\"\n",
        "\n",
        "# Ask for user input\n",
        "user_input = input(PROMPT)\n",
        "\n",
        "# Convert user input to lowercase and check if it's \"joke\"\n",
        "if user_input.lower() == \"joke\":\n",
        "    print(JOKE)  # Print the joke if input is \"joke\" (any case)\n",
        "else:\n",
        "    print(SORRY)  # Print sorry message for any other input\n",
        "\n"
      ]
    }
  ]
}