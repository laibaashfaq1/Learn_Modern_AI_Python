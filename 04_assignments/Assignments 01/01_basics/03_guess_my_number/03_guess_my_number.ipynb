{
  "nbformat": 4,
  "nbformat_minor": 0,
  "metadata": {
    "colab": {
      "provenance": []
    },
    "kernelspec": {
      "name": "python3",
      "display_name": "Python 3"
    },
    "language_info": {
      "name": "python"
    }
  },
  "cells": [
    {
      "cell_type": "code",
      "execution_count": 11,
      "metadata": {
        "id": "uE_cPzEZUnZt",
        "colab": {
          "base_uri": "https://localhost:8080/"
        },
        "outputId": "1521f1be-122a-43a1-fc06-0d2ef89365bb"
      },
      "outputs": [
        {
          "output_type": "stream",
          "name": "stdout",
          "text": [
            "I am thinking of a number between 1 and 99...\n",
            "Enter a guess: 8\n",
            "Your guess is too low\n",
            "\n",
            "Enter a new guess: 10\n",
            "Your guess is too low\n",
            "\n",
            "Enter a new guess: 20\n",
            "Your guess is too high\n",
            "\n",
            "Enter a new guess: 19\n",
            "Your guess is too high\n",
            "\n",
            "Enter a new guess: 15\n",
            "Your guess is too low\n",
            "\n",
            "Enter a new guess: 12\n",
            "Your guess is too low\n",
            "\n",
            "Enter a new guess: 16\n",
            "Congrats! The number was: 16\n"
          ]
        }
      ],
      "source": [
        "import random\n",
        "\n",
        "def main():\n",
        "    # Generate the secret number at random between 1 and 99\n",
        "    secret_number: int = random.randint(1, 99)\n",
        "\n",
        "    print(\"I am thinking of a number between 1 and 99...\")\n",
        "\n",
        "    # Get the user's first guess\n",
        "    guess = int(input(\"Enter a guess: \"))\n",
        "\n",
        "    # Keep asking for guesses until the user guesses the correct number\n",
        "    while guess != secret_number:\n",
        "        if guess < secret_number:  # If the guess is too low\n",
        "            print(\"Your guess is too low\")\n",
        "        else:  # If the guess is too high\n",
        "            print(\"Your guess is too high\")\n",
        "\n",
        "        print()  # Print an empty line for tidiness\n",
        "\n",
        "        # Prompt the user for a new guess\n",
        "        guess: int = int(input(\"Enter a new guess: \"))\n",
        "\n",
        "    # When the user guesses correctly, print a congratulatory message\n",
        "    print(\"Congrats! The number was: \" + str(secret_number))\n",
        "\n",
        "# Call the main function to start the game\n",
        "main()\n"
      ]
    }
  ]
}