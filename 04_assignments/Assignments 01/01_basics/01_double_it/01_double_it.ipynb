{
  "nbformat": 4,
  "nbformat_minor": 0,
  "metadata": {
    "colab": {
      "provenance": []
    },
    "kernelspec": {
      "name": "python3",
      "display_name": "Python 3"
    },
    "language_info": {
      "name": "python"
    }
  },
  "cells": [
    {
      "cell_type": "code",
      "execution_count": 7,
      "metadata": {
        "id": "uE_cPzEZUnZt",
        "colab": {
          "base_uri": "https://localhost:8080/"
        },
        "outputId": "4de1dfcc-0e3b-488d-cd26-52a0a148efa1"
      },
      "outputs": [
        {
          "output_type": "stream",
          "name": "stdout",
          "text": [
            "Enter a number: 4\n",
            "8\n",
            "16\n",
            "32\n",
            "64\n",
            "128\n"
          ]
        }
      ],
      "source": [
        "# Ask the user to enter a number and convert it to an integer\n",
        "curr_value = int(input(\"Enter a number: \"))\n",
        "\n",
        "# Double the number and print it until it is 100 or more\n",
        "while curr_value < 100:\n",
        "    # Double the current value\n",
        "    curr_value = curr_value * 2\n",
        "    # Print the current (doubled) value\n",
        "    print(curr_value)\n"
      ]
    }
  ]
}