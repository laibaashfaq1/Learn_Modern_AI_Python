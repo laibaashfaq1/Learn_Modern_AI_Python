{
  "nbformat": 4,
  "nbformat_minor": 0,
  "metadata": {
    "colab": {
      "provenance": []
    },
    "kernelspec": {
      "name": "python3",
      "display_name": "Python 3"
    },
    "language_info": {
      "name": "python"
    }
  },
  "cells": [
    {
      "cell_type": "code",
      "execution_count": 8,
      "metadata": {
        "id": "uE_cPzEZUnZt",
        "colab": {
          "base_uri": "https://localhost:8080/"
        },
        "outputId": "d83f6352-a342-49fb-e8e4-dff357362572"
      },
      "outputs": [
        {
          "output_type": "stream",
          "name": "stdout",
          "text": [
            "10 9 8 7 6 5 4 3 2 1 Liftoff!\n"
          ]
        }
      ],
      "source": [
        "# Loop 10 times using the range function\n",
        "for i in range(10):\n",
        "    # Print countdown by subtracting i from 10\n",
        "    print(10 - i, end=\" \")\n",
        "\n",
        "# After the loop, print Liftoff!\n",
        "print(\"Liftoff!\")\n"
      ]
    }
  ]
}